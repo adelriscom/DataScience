{
  "cells": [
    {
      "cell_type": "markdown",
      "metadata": {
        "id": "view-in-github",
        "colab_type": "text"
      },
      "source": [
        "<a href=\"https://colab.research.google.com/github/adelriscom/DataScience/blob/main/Web_scrapping_exercise_.ipynb\" target=\"_parent\"><img src=\"https://colab.research.google.com/assets/colab-badge.svg\" alt=\"Open In Colab\"/></a>"
      ]
    },
    {
      "cell_type": "markdown",
      "metadata": {
        "id": "XMV9G2UGHHoM"
      },
      "source": [
        "Task:\n",
        "The url below contains html tables with ata about world population\n",
        "\"https://en.wikipedia.org/wiki/World_population\"\n",
        "\n",
        "1) Find and scrap all the html tables\n",
        "\n"
      ]
    },
    {
      "cell_type": "code",
      "source": [
        "import pandas as pd\n",
        "from bs4 import BeautifulSoup # Good for webscrapping for pulling HTML and XML files\n",
        "import requests # to download webpage"
      ],
      "metadata": {
        "id": "XiACIw6qDRXe"
      },
      "execution_count": 12,
      "outputs": []
    },
    {
      "cell_type": "code",
      "source": [
        "url = 'https://en.wikipedia.org/wiki/World_population'"
      ],
      "metadata": {
        "id": "9w09ezd1Dag-"
      },
      "execution_count": 13,
      "outputs": []
    },
    {
      "cell_type": "code",
      "source": [
        "# We use get to download the content of the web page in txt format and store in a variable called data:\n",
        "\n",
        "#data = requests.get(url).text\n",
        "try:\n",
        "    response = requests.get(url)\n",
        "    data = response.content\n",
        "    # We create BeautifulSoup object using the BeautifulSoup Constructor\n",
        "    soup = BeautifulSoup(data, 'html5lib') # create a soup using variable data \n",
        "    # print the status code\n",
        "    print(f\"Status code: {response.status_code}\")\n",
        "except requests.exceptions.RequestException as e:\n",
        "    # Handle the exception\n",
        "    print(f\"An error occurred: {str(e)}\")"
      ],
      "metadata": {
        "id": "shPLilmTDmRa",
        "outputId": "162c5d82-2573-4670-96b8-051d385d8473",
        "colab": {
          "base_uri": "https://localhost:8080/"
        }
      },
      "execution_count": 14,
      "outputs": [
        {
          "output_type": "stream",
          "name": "stdout",
          "text": [
            "Status code: 200\n"
          ]
        }
      ]
    },
    {
      "cell_type": "code",
      "source": [
        "print(response.headers)"
      ],
      "metadata": {
        "id": "5fLZzE9TDwgE",
        "outputId": "51911e95-bbe7-4777-ff28-f169b61cbd73",
        "colab": {
          "base_uri": "https://localhost:8080/"
        }
      },
      "execution_count": 4,
      "outputs": [
        {
          "output_type": "stream",
          "name": "stdout",
          "text": [
            "{'date': 'Tue, 09 May 2023 10:47:53 GMT', 'server': 'mw2359.codfw.wmnet', 'x-content-type-options': 'nosniff', 'content-language': 'en', 'vary': 'Accept-Encoding,Cookie,Authorization', 'last-modified': 'Tue, 09 May 2023 10:46:12 GMT', 'content-type': 'text/html; charset=UTF-8', 'content-encoding': 'gzip', 'age': '32424', 'x-cache': 'cp4038 miss, cp4038 hit/17', 'x-cache-status': 'hit-front', 'server-timing': 'cache;desc=\"hit-front\", host;desc=\"cp4038\"', 'strict-transport-security': 'max-age=106384710; includeSubDomains; preload', 'report-to': '{ \"group\": \"wm_nel\", \"max_age\": 604800, \"endpoints\": [{ \"url\": \"https://intake-logging.wikimedia.org/v1/events?stream=w3c.reportingapi.network_error&schema_uri=/w3c/reportingapi/network_error/1.0.0\" }] }', 'nel': '{ \"report_to\": \"wm_nel\", \"max_age\": 604800, \"failure_fraction\": 0.05, \"success_fraction\": 0.0}', 'set-cookie': 'WMF-Last-Access=09-May-2023;Path=/;HttpOnly;secure;Expires=Sat, 10 Jun 2023 12:00:00 GMT, WMF-Last-Access-Global=09-May-2023;Path=/;Domain=.wikipedia.org;HttpOnly;secure;Expires=Sat, 10 Jun 2023 12:00:00 GMT, WMF-DP=16a;Path=/;HttpOnly;secure;Expires=Wed, 10 May 2023 00:00:00 GMT, GeoIP=US:OR:The_Dalles:45.60:-121.19:v4; Path=/; secure; Domain=.wikipedia.org', 'x-client-ip': '34.82.24.61', 'cache-control': 'private, s-maxage=0, max-age=0, must-revalidate', 'accept-ranges': 'bytes', 'content-length': '94518'}\n"
          ]
        }
      ]
    },
    {
      "cell_type": "code",
      "source": [
        "print(response.text)"
      ],
      "metadata": {
        "id": "j5T4Q-CED7Qy"
      },
      "execution_count": null,
      "outputs": []
    },
    {
      "cell_type": "code",
      "source": [
        "tables = soup.find_all(\"table\")\n",
        "\n",
        "for table in tables:\n",
        "    # extract the data\n",
        "    rows = table.find_all(\"tr\")\n",
        "    for row in rows:\n",
        "        cols = row.find_all(\"td\")\n",
        "        for col in cols:\n",
        "            print(col.text)"
      ],
      "metadata": {
        "id": "JS1vYvAHFSAn"
      },
      "execution_count": null,
      "outputs": []
    },
    {
      "cell_type": "markdown",
      "metadata": {
        "id": "1X6V2F2NHHoY"
      },
      "source": [
        "2) How many tables do we have on the page?\n"
      ]
    },
    {
      "cell_type": "code",
      "source": [
        "# Print the number of tables found\n",
        "print(f\"Number of tables on the webpage: {len(tables)}\")"
      ],
      "metadata": {
        "id": "xRM3XP9RGBof",
        "outputId": "56c048a3-e2b4-4db8-81a3-0ca2fa6c405f",
        "colab": {
          "base_uri": "https://localhost:8080/"
        }
      },
      "execution_count": 16,
      "outputs": [
        {
          "output_type": "stream",
          "name": "stdout",
          "text": [
            "Number of tables on the webpage: 28\n"
          ]
        }
      ]
    },
    {
      "cell_type": "markdown",
      "metadata": {
        "id": "2Y0bSitrHHoZ"
      },
      "source": [
        "3) Get the information from the from the \"10 most densely populated countries\". into a panda dataframe. It should look like:\n",
        "\n",
        "<center>\n",
        "    <img src=\"https://elasticbeanstalk-us-east-2-340729127361.s3.us-east-2.amazonaws.com/web_scrap.png\" width=\"300\" />\n",
        "</center>"
      ]
    },
    {
      "cell_type": "code",
      "source": [
        "tables = pd.read_html(url)\n",
        "df = tables[7]\n",
        "df"
      ],
      "metadata": {
        "id": "Ecv9i05RG0WF",
        "outputId": "4d8212d0-b706-4558-e77b-07760e0ace81",
        "colab": {
          "base_uri": "https://localhost:8080/",
          "height": 362
        }
      },
      "execution_count": 18,
      "outputs": [
        {
          "output_type": "execute_result",
          "data": {
            "text/plain": [
              "   Rank         Country  Population  Area (km2)  Density (pop/km2)  \\\n",
              "0     1           India  1389637446     3287263                423   \n",
              "1     2        Pakistan   242923845      796095                305   \n",
              "2     3      Bangladesh   165650475      148460               1116   \n",
              "3     4           Japan   124214766      377915                329   \n",
              "4     5     Philippines   114597229      300000                382   \n",
              "5     6         Vietnam   103808319      331210                313   \n",
              "6     7  United Kingdom    67791400      243610                278   \n",
              "7     8     South Korea    51844834       99720                520   \n",
              "8     9          Taiwan    23580712       35980                655   \n",
              "9    10       Sri Lanka    23187516       65610                353   \n",
              "\n",
              "  Population trend[citation needed]  \n",
              "0                           Growing  \n",
              "1                   Rapidly growing  \n",
              "2                           Growing  \n",
              "3                    Declining[103]  \n",
              "4                           Growing  \n",
              "5                           Growing  \n",
              "6                           Growing  \n",
              "7                            Steady  \n",
              "8                            Steady  \n",
              "9                           Growing  "
            ],
            "text/html": [
              "\n",
              "  <div id=\"df-e565cfd8-2046-4ca3-bb7a-c8bfbf4eaa1c\">\n",
              "    <div class=\"colab-df-container\">\n",
              "      <div>\n",
              "<style scoped>\n",
              "    .dataframe tbody tr th:only-of-type {\n",
              "        vertical-align: middle;\n",
              "    }\n",
              "\n",
              "    .dataframe tbody tr th {\n",
              "        vertical-align: top;\n",
              "    }\n",
              "\n",
              "    .dataframe thead th {\n",
              "        text-align: right;\n",
              "    }\n",
              "</style>\n",
              "<table border=\"1\" class=\"dataframe\">\n",
              "  <thead>\n",
              "    <tr style=\"text-align: right;\">\n",
              "      <th></th>\n",
              "      <th>Rank</th>\n",
              "      <th>Country</th>\n",
              "      <th>Population</th>\n",
              "      <th>Area (km2)</th>\n",
              "      <th>Density (pop/km2)</th>\n",
              "      <th>Population trend[citation needed]</th>\n",
              "    </tr>\n",
              "  </thead>\n",
              "  <tbody>\n",
              "    <tr>\n",
              "      <th>0</th>\n",
              "      <td>1</td>\n",
              "      <td>India</td>\n",
              "      <td>1389637446</td>\n",
              "      <td>3287263</td>\n",
              "      <td>423</td>\n",
              "      <td>Growing</td>\n",
              "    </tr>\n",
              "    <tr>\n",
              "      <th>1</th>\n",
              "      <td>2</td>\n",
              "      <td>Pakistan</td>\n",
              "      <td>242923845</td>\n",
              "      <td>796095</td>\n",
              "      <td>305</td>\n",
              "      <td>Rapidly growing</td>\n",
              "    </tr>\n",
              "    <tr>\n",
              "      <th>2</th>\n",
              "      <td>3</td>\n",
              "      <td>Bangladesh</td>\n",
              "      <td>165650475</td>\n",
              "      <td>148460</td>\n",
              "      <td>1116</td>\n",
              "      <td>Growing</td>\n",
              "    </tr>\n",
              "    <tr>\n",
              "      <th>3</th>\n",
              "      <td>4</td>\n",
              "      <td>Japan</td>\n",
              "      <td>124214766</td>\n",
              "      <td>377915</td>\n",
              "      <td>329</td>\n",
              "      <td>Declining[103]</td>\n",
              "    </tr>\n",
              "    <tr>\n",
              "      <th>4</th>\n",
              "      <td>5</td>\n",
              "      <td>Philippines</td>\n",
              "      <td>114597229</td>\n",
              "      <td>300000</td>\n",
              "      <td>382</td>\n",
              "      <td>Growing</td>\n",
              "    </tr>\n",
              "    <tr>\n",
              "      <th>5</th>\n",
              "      <td>6</td>\n",
              "      <td>Vietnam</td>\n",
              "      <td>103808319</td>\n",
              "      <td>331210</td>\n",
              "      <td>313</td>\n",
              "      <td>Growing</td>\n",
              "    </tr>\n",
              "    <tr>\n",
              "      <th>6</th>\n",
              "      <td>7</td>\n",
              "      <td>United Kingdom</td>\n",
              "      <td>67791400</td>\n",
              "      <td>243610</td>\n",
              "      <td>278</td>\n",
              "      <td>Growing</td>\n",
              "    </tr>\n",
              "    <tr>\n",
              "      <th>7</th>\n",
              "      <td>8</td>\n",
              "      <td>South Korea</td>\n",
              "      <td>51844834</td>\n",
              "      <td>99720</td>\n",
              "      <td>520</td>\n",
              "      <td>Steady</td>\n",
              "    </tr>\n",
              "    <tr>\n",
              "      <th>8</th>\n",
              "      <td>9</td>\n",
              "      <td>Taiwan</td>\n",
              "      <td>23580712</td>\n",
              "      <td>35980</td>\n",
              "      <td>655</td>\n",
              "      <td>Steady</td>\n",
              "    </tr>\n",
              "    <tr>\n",
              "      <th>9</th>\n",
              "      <td>10</td>\n",
              "      <td>Sri Lanka</td>\n",
              "      <td>23187516</td>\n",
              "      <td>65610</td>\n",
              "      <td>353</td>\n",
              "      <td>Growing</td>\n",
              "    </tr>\n",
              "  </tbody>\n",
              "</table>\n",
              "</div>\n",
              "      <button class=\"colab-df-convert\" onclick=\"convertToInteractive('df-e565cfd8-2046-4ca3-bb7a-c8bfbf4eaa1c')\"\n",
              "              title=\"Convert this dataframe to an interactive table.\"\n",
              "              style=\"display:none;\">\n",
              "        \n",
              "  <svg xmlns=\"http://www.w3.org/2000/svg\" height=\"24px\"viewBox=\"0 0 24 24\"\n",
              "       width=\"24px\">\n",
              "    <path d=\"M0 0h24v24H0V0z\" fill=\"none\"/>\n",
              "    <path d=\"M18.56 5.44l.94 2.06.94-2.06 2.06-.94-2.06-.94-.94-2.06-.94 2.06-2.06.94zm-11 1L8.5 8.5l.94-2.06 2.06-.94-2.06-.94L8.5 2.5l-.94 2.06-2.06.94zm10 10l.94 2.06.94-2.06 2.06-.94-2.06-.94-.94-2.06-.94 2.06-2.06.94z\"/><path d=\"M17.41 7.96l-1.37-1.37c-.4-.4-.92-.59-1.43-.59-.52 0-1.04.2-1.43.59L10.3 9.45l-7.72 7.72c-.78.78-.78 2.05 0 2.83L4 21.41c.39.39.9.59 1.41.59.51 0 1.02-.2 1.41-.59l7.78-7.78 2.81-2.81c.8-.78.8-2.07 0-2.86zM5.41 20L4 18.59l7.72-7.72 1.47 1.35L5.41 20z\"/>\n",
              "  </svg>\n",
              "      </button>\n",
              "      \n",
              "  <style>\n",
              "    .colab-df-container {\n",
              "      display:flex;\n",
              "      flex-wrap:wrap;\n",
              "      gap: 12px;\n",
              "    }\n",
              "\n",
              "    .colab-df-convert {\n",
              "      background-color: #E8F0FE;\n",
              "      border: none;\n",
              "      border-radius: 50%;\n",
              "      cursor: pointer;\n",
              "      display: none;\n",
              "      fill: #1967D2;\n",
              "      height: 32px;\n",
              "      padding: 0 0 0 0;\n",
              "      width: 32px;\n",
              "    }\n",
              "\n",
              "    .colab-df-convert:hover {\n",
              "      background-color: #E2EBFA;\n",
              "      box-shadow: 0px 1px 2px rgba(60, 64, 67, 0.3), 0px 1px 3px 1px rgba(60, 64, 67, 0.15);\n",
              "      fill: #174EA6;\n",
              "    }\n",
              "\n",
              "    [theme=dark] .colab-df-convert {\n",
              "      background-color: #3B4455;\n",
              "      fill: #D2E3FC;\n",
              "    }\n",
              "\n",
              "    [theme=dark] .colab-df-convert:hover {\n",
              "      background-color: #434B5C;\n",
              "      box-shadow: 0px 1px 3px 1px rgba(0, 0, 0, 0.15);\n",
              "      filter: drop-shadow(0px 1px 2px rgba(0, 0, 0, 0.3));\n",
              "      fill: #FFFFFF;\n",
              "    }\n",
              "  </style>\n",
              "\n",
              "      <script>\n",
              "        const buttonEl =\n",
              "          document.querySelector('#df-e565cfd8-2046-4ca3-bb7a-c8bfbf4eaa1c button.colab-df-convert');\n",
              "        buttonEl.style.display =\n",
              "          google.colab.kernel.accessAllowed ? 'block' : 'none';\n",
              "\n",
              "        async function convertToInteractive(key) {\n",
              "          const element = document.querySelector('#df-e565cfd8-2046-4ca3-bb7a-c8bfbf4eaa1c');\n",
              "          const dataTable =\n",
              "            await google.colab.kernel.invokeFunction('convertToInteractive',\n",
              "                                                     [key], {});\n",
              "          if (!dataTable) return;\n",
              "\n",
              "          const docLinkHtml = 'Like what you see? Visit the ' +\n",
              "            '<a target=\"_blank\" href=https://colab.research.google.com/notebooks/data_table.ipynb>data table notebook</a>'\n",
              "            + ' to learn more about interactive tables.';\n",
              "          element.innerHTML = '';\n",
              "          dataTable['output_type'] = 'display_data';\n",
              "          await google.colab.output.renderOutput(dataTable, element);\n",
              "          const docLink = document.createElement('div');\n",
              "          docLink.innerHTML = docLinkHtml;\n",
              "          element.appendChild(docLink);\n",
              "        }\n",
              "      </script>\n",
              "    </div>\n",
              "  </div>\n",
              "  "
            ]
          },
          "metadata": {},
          "execution_count": 18
        }
      ]
    },
    {
      "cell_type": "markdown",
      "metadata": {
        "id": "SN0iJEQlHHoa"
      },
      "source": [
        "4) Scrap of the links frm the website. How many links do we have in all?"
      ]
    },
    {
      "cell_type": "code",
      "source": [
        "# Find all the links on the page and store them in a list\n",
        "links = [link.get('href') for link in soup.find_all('a')]\n",
        "\n",
        "# Print the number of links found\n",
        "print(f\"Total number of links found: {len(links)}\")"
      ],
      "metadata": {
        "id": "ZVSjvMyxH5YF",
        "outputId": "888a8c35-6491-44ab-dca0-1f0f7450b4af",
        "colab": {
          "base_uri": "https://localhost:8080/"
        }
      },
      "execution_count": 22,
      "outputs": [
        {
          "output_type": "stream",
          "name": "stdout",
          "text": [
            "Total number of links found: 1743\n"
          ]
        }
      ]
    }
  ],
  "metadata": {
    "kernelspec": {
      "display_name": "Python 3",
      "language": "python",
      "name": "python3"
    },
    "language_info": {
      "codemirror_mode": {
        "name": "ipython",
        "version": 3
      },
      "file_extension": ".py",
      "mimetype": "text/x-python",
      "name": "python",
      "nbconvert_exporter": "python",
      "pygments_lexer": "ipython3",
      "version": "3.7.6"
    },
    "colab": {
      "provenance": [],
      "include_colab_link": true
    }
  },
  "nbformat": 4,
  "nbformat_minor": 0
}