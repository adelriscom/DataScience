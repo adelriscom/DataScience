{
  "nbformat": 4,
  "nbformat_minor": 0,
  "metadata": {
    "colab": {
      "provenance": [],
      "include_colab_link": true
    },
    "kernelspec": {
      "name": "python3",
      "display_name": "Python 3"
    },
    "language_info": {
      "name": "python"
    }
  },
  "cells": [
    {
      "cell_type": "markdown",
      "metadata": {
        "id": "view-in-github",
        "colab_type": "text"
      },
      "source": [
        "<a href=\"https://colab.research.google.com/github/adelriscom/DataScience/blob/main/project_4__Alexander_Del_Risco.ipynb\" target=\"_parent\"><img src=\"https://colab.research.google.com/assets/colab-badge.svg\" alt=\"Open In Colab\"/></a>"
      ]
    },
    {
      "cell_type": "markdown",
      "source": [
        "# Introduction\n",
        "In this project, you will work on an open and real dataset, Real Estate Listings in\n",
        "Mexico. This dataset includes both rent and sale data for properties in Mexico.\n",
        "Properati is a competitive marketplace for Latin American real estate that strives to\n",
        "assist consumers in purchasing and renting homes, while simultaneously providing\n",
        "location-specific property databases for the public."
      ],
      "metadata": {
        "id": "gVV-V8v12us3"
      }
    },
    {
      "cell_type": "code",
      "source": [
        "from google.colab import drive\n",
        "drive.mount('/content/drive')"
      ],
      "metadata": {
        "colab": {
          "base_uri": "https://localhost:8080/"
        },
        "id": "gMfSCR6HB7Ty",
        "outputId": "c7ec044b-3f8c-472c-c775-7a056eb34c67"
      },
      "execution_count": 1,
      "outputs": [
        {
          "output_type": "stream",
          "name": "stdout",
          "text": [
            "Mounted at /content/drive\n"
          ]
        }
      ]
    },
    {
      "cell_type": "markdown",
      "source": [
        "## One interesting analysis question could be:\n",
        "+ What are the key factors that influence property prices in urban areas of Mexico?\n",
        "\n",
        "+ This question could be further broken down into sub-questions such as:\n",
        "\n",
        "+ What is the average price of properties in urban areas of Mexico?\n",
        "+ Which types of properties (apartment, house, etc.) have the highest and lowest prices?\n",
        "+ Does the location (neighborhood, proximity to amenities) have an impact on property prices?\n",
        "+ What is the correlation between surface area and property prices?\n",
        "+ How has the average property price changed over time?"
      ],
      "metadata": {
        "id": "uELfFNaH4ViY"
      }
    },
    {
      "cell_type": "code",
      "execution_count": 2,
      "metadata": {
        "id": "4o8rPrrClF3_"
      },
      "outputs": [],
      "source": [
        "import pandas as pd\n",
        "import numpy as np\n",
        "import seaborn as sn\n",
        "import matplotlib.pyplot as plt\n",
        "import folium\n",
        "from IPython.display import display\n",
        "\n"
      ]
    },
    {
      "cell_type": "code",
      "source": [
        "data_estate = pd.read_csv('/content/drive/MyDrive/DataScience_UWinnipeg/properati_properties_Mexico.csv')\n",
        "print(data_estate.shape)\n",
        "display(data_estate.head())"
      ],
      "metadata": {
        "colab": {
          "base_uri": "https://localhost:8080/",
          "height": 594
        },
        "id": "w84sGbwhtOZE",
        "outputId": "5f2f2be4-bc4b-4876-86fa-35ad16878df8"
      },
      "execution_count": 3,
      "outputs": [
        {
          "output_type": "stream",
          "name": "stdout",
          "text": [
            "(3148360, 21)\n"
          ]
        },
        {
          "output_type": "display_data",
          "data": {
            "text/plain": [
              "   Unnamed: 0                                        id  created_on operation  \\\n",
              "0           0  f148cbb2c2ff6ad7476f44d219b7af14bc717754  2015-01-05      rent   \n",
              "1           1  5450e023897c87100feb23fc4d5ecec1ac1658d4  2015-01-05      rent   \n",
              "2           2  e11cfdc485256c33a8af75e9b614293efdea5c05  2015-01-05      rent   \n",
              "3           3  c108c5e0def8a486e4d43945aa4e7cef1dda5cae  2015-01-05      rent   \n",
              "4           4  577da74be713b9df810ef4e5100d9c374bb7441f  2015-02-22      rent   \n",
              "\n",
              "  property_type place_name place_with_parent_names country_name state_name  \\\n",
              "0         house    Morelos        |México|Morelos|       México    Morelos   \n",
              "1         house    Morelos        |México|Morelos|       México    Morelos   \n",
              "2         store    Morelos        |México|Morelos|       México    Morelos   \n",
              "3         store    Tabasco        |México|Tabasco|       México    Tabasco   \n",
              "4         house  Querétaro      |México|Querétaro|       México  Querétaro   \n",
              "\n",
              "         lat  ...    price  currency price_aprox_local_currency  \\\n",
              "0  18.824124  ...  10000.0       MXN                   11184.51   \n",
              "1  18.825402  ...  20000.0       MXN                   22485.30   \n",
              "2  18.823515  ...   5000.0       MXN                    5652.51   \n",
              "3  17.994583  ...   8000.0       MXN                    7586.83   \n",
              "4        NaN  ...  10000.0       MXN                   11711.01   \n",
              "\n",
              "   price_aprox_usd  surface_total_in_m2  price_usd_per_m2  price_per_m2  \\\n",
              "0           631.99                500.0          1.263980           NaN   \n",
              "1          1270.55                480.0          2.646979           NaN   \n",
              "2           319.40                180.0          1.774444           NaN   \n",
              "3           428.70                528.0          0.811932           NaN   \n",
              "4           661.74                  NaN               NaN          62.5   \n",
              "\n",
              "   rooms  expenses                                             title  \n",
              "0    NaN       NaN  LINDA CASA EN ZONA COMERCIAL IDEAL PARA OFICINAS  \n",
              "1    NaN       NaN            PRECIOSA CASA SOBRE AVENIDA IMPORTANTE  \n",
              "2    NaN       NaN      INTERESANTE LOCAL EN RENTA FRENTE AL CANARIO  \n",
              "3    NaN       NaN                     Plaza Moro, Cardenas, Tabasco  \n",
              "4    NaN       NaN                 Casa en Renta en San Juan del Río  \n",
              "\n",
              "[5 rows x 21 columns]"
            ],
            "text/html": [
              "\n",
              "  <div id=\"df-c38505a0-7262-4afb-9fc6-3db42bab21e9\">\n",
              "    <div class=\"colab-df-container\">\n",
              "      <div>\n",
              "<style scoped>\n",
              "    .dataframe tbody tr th:only-of-type {\n",
              "        vertical-align: middle;\n",
              "    }\n",
              "\n",
              "    .dataframe tbody tr th {\n",
              "        vertical-align: top;\n",
              "    }\n",
              "\n",
              "    .dataframe thead th {\n",
              "        text-align: right;\n",
              "    }\n",
              "</style>\n",
              "<table border=\"1\" class=\"dataframe\">\n",
              "  <thead>\n",
              "    <tr style=\"text-align: right;\">\n",
              "      <th></th>\n",
              "      <th>Unnamed: 0</th>\n",
              "      <th>id</th>\n",
              "      <th>created_on</th>\n",
              "      <th>operation</th>\n",
              "      <th>property_type</th>\n",
              "      <th>place_name</th>\n",
              "      <th>place_with_parent_names</th>\n",
              "      <th>country_name</th>\n",
              "      <th>state_name</th>\n",
              "      <th>lat</th>\n",
              "      <th>...</th>\n",
              "      <th>price</th>\n",
              "      <th>currency</th>\n",
              "      <th>price_aprox_local_currency</th>\n",
              "      <th>price_aprox_usd</th>\n",
              "      <th>surface_total_in_m2</th>\n",
              "      <th>price_usd_per_m2</th>\n",
              "      <th>price_per_m2</th>\n",
              "      <th>rooms</th>\n",
              "      <th>expenses</th>\n",
              "      <th>title</th>\n",
              "    </tr>\n",
              "  </thead>\n",
              "  <tbody>\n",
              "    <tr>\n",
              "      <th>0</th>\n",
              "      <td>0</td>\n",
              "      <td>f148cbb2c2ff6ad7476f44d219b7af14bc717754</td>\n",
              "      <td>2015-01-05</td>\n",
              "      <td>rent</td>\n",
              "      <td>house</td>\n",
              "      <td>Morelos</td>\n",
              "      <td>|México|Morelos|</td>\n",
              "      <td>México</td>\n",
              "      <td>Morelos</td>\n",
              "      <td>18.824124</td>\n",
              "      <td>...</td>\n",
              "      <td>10000.0</td>\n",
              "      <td>MXN</td>\n",
              "      <td>11184.51</td>\n",
              "      <td>631.99</td>\n",
              "      <td>500.0</td>\n",
              "      <td>1.263980</td>\n",
              "      <td>NaN</td>\n",
              "      <td>NaN</td>\n",
              "      <td>NaN</td>\n",
              "      <td>LINDA CASA EN ZONA COMERCIAL IDEAL PARA OFICINAS</td>\n",
              "    </tr>\n",
              "    <tr>\n",
              "      <th>1</th>\n",
              "      <td>1</td>\n",
              "      <td>5450e023897c87100feb23fc4d5ecec1ac1658d4</td>\n",
              "      <td>2015-01-05</td>\n",
              "      <td>rent</td>\n",
              "      <td>house</td>\n",
              "      <td>Morelos</td>\n",
              "      <td>|México|Morelos|</td>\n",
              "      <td>México</td>\n",
              "      <td>Morelos</td>\n",
              "      <td>18.825402</td>\n",
              "      <td>...</td>\n",
              "      <td>20000.0</td>\n",
              "      <td>MXN</td>\n",
              "      <td>22485.30</td>\n",
              "      <td>1270.55</td>\n",
              "      <td>480.0</td>\n",
              "      <td>2.646979</td>\n",
              "      <td>NaN</td>\n",
              "      <td>NaN</td>\n",
              "      <td>NaN</td>\n",
              "      <td>PRECIOSA CASA SOBRE AVENIDA IMPORTANTE</td>\n",
              "    </tr>\n",
              "    <tr>\n",
              "      <th>2</th>\n",
              "      <td>2</td>\n",
              "      <td>e11cfdc485256c33a8af75e9b614293efdea5c05</td>\n",
              "      <td>2015-01-05</td>\n",
              "      <td>rent</td>\n",
              "      <td>store</td>\n",
              "      <td>Morelos</td>\n",
              "      <td>|México|Morelos|</td>\n",
              "      <td>México</td>\n",
              "      <td>Morelos</td>\n",
              "      <td>18.823515</td>\n",
              "      <td>...</td>\n",
              "      <td>5000.0</td>\n",
              "      <td>MXN</td>\n",
              "      <td>5652.51</td>\n",
              "      <td>319.40</td>\n",
              "      <td>180.0</td>\n",
              "      <td>1.774444</td>\n",
              "      <td>NaN</td>\n",
              "      <td>NaN</td>\n",
              "      <td>NaN</td>\n",
              "      <td>INTERESANTE LOCAL EN RENTA FRENTE AL CANARIO</td>\n",
              "    </tr>\n",
              "    <tr>\n",
              "      <th>3</th>\n",
              "      <td>3</td>\n",
              "      <td>c108c5e0def8a486e4d43945aa4e7cef1dda5cae</td>\n",
              "      <td>2015-01-05</td>\n",
              "      <td>rent</td>\n",
              "      <td>store</td>\n",
              "      <td>Tabasco</td>\n",
              "      <td>|México|Tabasco|</td>\n",
              "      <td>México</td>\n",
              "      <td>Tabasco</td>\n",
              "      <td>17.994583</td>\n",
              "      <td>...</td>\n",
              "      <td>8000.0</td>\n",
              "      <td>MXN</td>\n",
              "      <td>7586.83</td>\n",
              "      <td>428.70</td>\n",
              "      <td>528.0</td>\n",
              "      <td>0.811932</td>\n",
              "      <td>NaN</td>\n",
              "      <td>NaN</td>\n",
              "      <td>NaN</td>\n",
              "      <td>Plaza Moro, Cardenas, Tabasco</td>\n",
              "    </tr>\n",
              "    <tr>\n",
              "      <th>4</th>\n",
              "      <td>4</td>\n",
              "      <td>577da74be713b9df810ef4e5100d9c374bb7441f</td>\n",
              "      <td>2015-02-22</td>\n",
              "      <td>rent</td>\n",
              "      <td>house</td>\n",
              "      <td>Querétaro</td>\n",
              "      <td>|México|Querétaro|</td>\n",
              "      <td>México</td>\n",
              "      <td>Querétaro</td>\n",
              "      <td>NaN</td>\n",
              "      <td>...</td>\n",
              "      <td>10000.0</td>\n",
              "      <td>MXN</td>\n",
              "      <td>11711.01</td>\n",
              "      <td>661.74</td>\n",
              "      <td>NaN</td>\n",
              "      <td>NaN</td>\n",
              "      <td>62.5</td>\n",
              "      <td>NaN</td>\n",
              "      <td>NaN</td>\n",
              "      <td>Casa en Renta en San Juan del Río</td>\n",
              "    </tr>\n",
              "  </tbody>\n",
              "</table>\n",
              "<p>5 rows × 21 columns</p>\n",
              "</div>\n",
              "      <button class=\"colab-df-convert\" onclick=\"convertToInteractive('df-c38505a0-7262-4afb-9fc6-3db42bab21e9')\"\n",
              "              title=\"Convert this dataframe to an interactive table.\"\n",
              "              style=\"display:none;\">\n",
              "        \n",
              "  <svg xmlns=\"http://www.w3.org/2000/svg\" height=\"24px\"viewBox=\"0 0 24 24\"\n",
              "       width=\"24px\">\n",
              "    <path d=\"M0 0h24v24H0V0z\" fill=\"none\"/>\n",
              "    <path d=\"M18.56 5.44l.94 2.06.94-2.06 2.06-.94-2.06-.94-.94-2.06-.94 2.06-2.06.94zm-11 1L8.5 8.5l.94-2.06 2.06-.94-2.06-.94L8.5 2.5l-.94 2.06-2.06.94zm10 10l.94 2.06.94-2.06 2.06-.94-2.06-.94-.94-2.06-.94 2.06-2.06.94z\"/><path d=\"M17.41 7.96l-1.37-1.37c-.4-.4-.92-.59-1.43-.59-.52 0-1.04.2-1.43.59L10.3 9.45l-7.72 7.72c-.78.78-.78 2.05 0 2.83L4 21.41c.39.39.9.59 1.41.59.51 0 1.02-.2 1.41-.59l7.78-7.78 2.81-2.81c.8-.78.8-2.07 0-2.86zM5.41 20L4 18.59l7.72-7.72 1.47 1.35L5.41 20z\"/>\n",
              "  </svg>\n",
              "      </button>\n",
              "      \n",
              "  <style>\n",
              "    .colab-df-container {\n",
              "      display:flex;\n",
              "      flex-wrap:wrap;\n",
              "      gap: 12px;\n",
              "    }\n",
              "\n",
              "    .colab-df-convert {\n",
              "      background-color: #E8F0FE;\n",
              "      border: none;\n",
              "      border-radius: 50%;\n",
              "      cursor: pointer;\n",
              "      display: none;\n",
              "      fill: #1967D2;\n",
              "      height: 32px;\n",
              "      padding: 0 0 0 0;\n",
              "      width: 32px;\n",
              "    }\n",
              "\n",
              "    .colab-df-convert:hover {\n",
              "      background-color: #E2EBFA;\n",
              "      box-shadow: 0px 1px 2px rgba(60, 64, 67, 0.3), 0px 1px 3px 1px rgba(60, 64, 67, 0.15);\n",
              "      fill: #174EA6;\n",
              "    }\n",
              "\n",
              "    [theme=dark] .colab-df-convert {\n",
              "      background-color: #3B4455;\n",
              "      fill: #D2E3FC;\n",
              "    }\n",
              "\n",
              "    [theme=dark] .colab-df-convert:hover {\n",
              "      background-color: #434B5C;\n",
              "      box-shadow: 0px 1px 3px 1px rgba(0, 0, 0, 0.15);\n",
              "      filter: drop-shadow(0px 1px 2px rgba(0, 0, 0, 0.3));\n",
              "      fill: #FFFFFF;\n",
              "    }\n",
              "  </style>\n",
              "\n",
              "      <script>\n",
              "        const buttonEl =\n",
              "          document.querySelector('#df-c38505a0-7262-4afb-9fc6-3db42bab21e9 button.colab-df-convert');\n",
              "        buttonEl.style.display =\n",
              "          google.colab.kernel.accessAllowed ? 'block' : 'none';\n",
              "\n",
              "        async function convertToInteractive(key) {\n",
              "          const element = document.querySelector('#df-c38505a0-7262-4afb-9fc6-3db42bab21e9');\n",
              "          const dataTable =\n",
              "            await google.colab.kernel.invokeFunction('convertToInteractive',\n",
              "                                                     [key], {});\n",
              "          if (!dataTable) return;\n",
              "\n",
              "          const docLinkHtml = 'Like what you see? Visit the ' +\n",
              "            '<a target=\"_blank\" href=https://colab.research.google.com/notebooks/data_table.ipynb>data table notebook</a>'\n",
              "            + ' to learn more about interactive tables.';\n",
              "          element.innerHTML = '';\n",
              "          dataTable['output_type'] = 'display_data';\n",
              "          await google.colab.output.renderOutput(dataTable, element);\n",
              "          const docLink = document.createElement('div');\n",
              "          docLink.innerHTML = docLinkHtml;\n",
              "          element.appendChild(docLink);\n",
              "        }\n",
              "      </script>\n",
              "    </div>\n",
              "  </div>\n",
              "  "
            ]
          },
          "metadata": {}
        }
      ]
    },
    {
      "cell_type": "markdown",
      "source": [
        "## Here is a summary of the columns:\n",
        "\n",
        "+ Unnamed: 0: an index column that was likely created during the DataFrame's creation\n",
        "+ id: a unique identifier for each property listing\n",
        "+ created_on: the date when the property listing was created\n",
        "+ operation: the type of operation (e.g., sell, rent)\n",
        "+ property_type: the type of property (e.g., apartment, house)\n",
        "+ place_name: the name of the city or neighborhood where the property is located\n",
        "+ place_with_parent_names: the name of the city or neighborhood, along with its parent locations (e.g., country, state)\n",
        "+ country_name: the name of the country where the property is located\n",
        "+ state_name: the name of the state or province where the property is located\n",
        "+ lat: the latitude of the property's location\n",
        "+ lon: the longitude of the property's location\n",
        "+ price: the price of the property\n",
        "+ currency: the currency in which the price is denominated\n",
        "+ price_aprox_local_currency: the price in the local currency of the property's location\n",
        "+ price_aprox_usd: the price in US dollars\n",
        "+ surface_total_in_m2: the total surface area of the property\n",
        "+ price_usd_per_m2: the price per square meter in US dollars\n",
        "+ price_per_m2: the price per square meter in the currency of the property's location\n",
        "+ rooms: the number of rooms in the property\n",
        "+ expenses: any additional expenses associated with the property (e.g., HOA fees)\n",
        "+ title: the title of the property listing"
      ],
      "metadata": {
        "id": "kaBz-5nCMNit"
      }
    },
    {
      "cell_type": "markdown",
      "source": [
        "## classify columns into categorical and quantitative variables"
      ],
      "metadata": {
        "id": "uLnIXRu98dLw"
      }
    },
    {
      "cell_type": "code",
      "source": [
        "def check_variables(df: pd.DataFrame):\n",
        "  cols = df.columns\n",
        "  quantitative_cols = df._get_numeric_data().columns\n",
        "  categorical_cols = list(set(cols) - set(quantitative_cols))\n",
        "  return categorical_cols, list(set(quantitative_cols))\n",
        "\n",
        "cat_cols, quan_cols = check_variables(data_estate)\n",
        "print(f'categorical columns: {cat_cols}')\n",
        "print(f'quantitative columns: {quan_cols}')"
      ],
      "metadata": {
        "colab": {
          "base_uri": "https://localhost:8080/"
        },
        "id": "C_gvGArV7M8p",
        "outputId": "62cb87d0-aa59-4e5c-9a6a-f4aabcde2c1d"
      },
      "execution_count": 4,
      "outputs": [
        {
          "output_type": "stream",
          "name": "stdout",
          "text": [
            "categorical columns: ['created_on', 'id', 'currency', 'place_name', 'property_type', 'place_with_parent_names', 'state_name', 'operation', 'title', 'country_name']\n",
            "quantitative columns: ['expenses', 'price_per_m2', 'price', 'price_usd_per_m2', 'rooms', 'surface_total_in_m2', 'price_aprox_local_currency', 'price_aprox_usd', 'lat', 'Unnamed: 0', 'lon']\n"
          ]
        }
      ]
    },
    {
      "cell_type": "code",
      "source": [
        "data_estate.info(show_counts=True)"
      ],
      "metadata": {
        "colab": {
          "base_uri": "https://localhost:8080/"
        },
        "id": "-vU3KqFPHiv0",
        "outputId": "5a5d9d2c-bfd5-4cdb-a904-01dbff67fac9"
      },
      "execution_count": 5,
      "outputs": [
        {
          "output_type": "stream",
          "name": "stdout",
          "text": [
            "<class 'pandas.core.frame.DataFrame'>\n",
            "RangeIndex: 3148360 entries, 0 to 3148359\n",
            "Data columns (total 21 columns):\n",
            " #   Column                      Non-Null Count    Dtype  \n",
            "---  ------                      --------------    -----  \n",
            " 0   Unnamed: 0                  3148360 non-null  int64  \n",
            " 1   id                          3148360 non-null  object \n",
            " 2   created_on                  3148360 non-null  object \n",
            " 3   operation                   3148360 non-null  object \n",
            " 4   property_type               3148360 non-null  object \n",
            " 5   place_name                  3148360 non-null  object \n",
            " 6   place_with_parent_names     3148360 non-null  object \n",
            " 7   country_name                3148360 non-null  object \n",
            " 8   state_name                  3148360 non-null  object \n",
            " 9   lat                         2305882 non-null  float64\n",
            " 10  lon                         2305882 non-null  float64\n",
            " 11  price                       3113027 non-null  float64\n",
            " 12  currency                    3010920 non-null  object \n",
            " 13  price_aprox_local_currency  3113027 non-null  float64\n",
            " 14  price_aprox_usd             3113027 non-null  float64\n",
            " 15  surface_total_in_m2         1615409 non-null  float64\n",
            " 16  price_usd_per_m2            1163900 non-null  float64\n",
            " 17  price_per_m2                2581514 non-null  float64\n",
            " 18  rooms                       108244 non-null   float64\n",
            " 19  expenses                    20762 non-null    float64\n",
            " 20  title                       3148360 non-null  object \n",
            "dtypes: float64(10), int64(1), object(10)\n",
            "memory usage: 504.4+ MB\n"
          ]
        }
      ]
    },
    {
      "cell_type": "markdown",
      "source": [
        "># Missing values\n",
        "+ # Check for missing values"
      ],
      "metadata": {
        "id": "IlD-dBrPOrFn"
      }
    },
    {
      "cell_type": "code",
      "source": [
        "print(data_estate.isnull().sum())"
      ],
      "metadata": {
        "colab": {
          "base_uri": "https://localhost:8080/"
        },
        "id": "XOCmqhK0OfiX",
        "outputId": "8577b27f-c8b2-4f98-ac9b-9bade0549e2d"
      },
      "execution_count": 6,
      "outputs": [
        {
          "output_type": "stream",
          "name": "stdout",
          "text": [
            "Unnamed: 0                          0\n",
            "id                                  0\n",
            "created_on                          0\n",
            "operation                           0\n",
            "property_type                       0\n",
            "place_name                          0\n",
            "place_with_parent_names             0\n",
            "country_name                        0\n",
            "state_name                          0\n",
            "lat                            842478\n",
            "lon                            842478\n",
            "price                           35333\n",
            "currency                       137440\n",
            "price_aprox_local_currency      35333\n",
            "price_aprox_usd                 35333\n",
            "surface_total_in_m2           1532951\n",
            "price_usd_per_m2              1984460\n",
            "price_per_m2                   566846\n",
            "rooms                         3040116\n",
            "expenses                      3127598\n",
            "title                               0\n",
            "dtype: int64\n"
          ]
        }
      ]
    },
    {
      "cell_type": "markdown",
      "source": [
        ">>If some columns have more than 70% of missing values, it might be better to drop those columns entirely instead of imputing missing values. In this case, dropping columns with a high percentage of missing values will not result in a significant loss of information."
      ],
      "metadata": {
        "id": "i3OuwvenRTKj"
      }
    },
    {
      "cell_type": "markdown",
      "source": [
        "# calculate the percentage of missing values in each column"
      ],
      "metadata": {
        "id": "uXJEkPP5IZh6"
      }
    },
    {
      "cell_type": "code",
      "source": [
        "# Calculate the percentage of missing values in each column\n",
        "percent_missing = round(data_estate.isnull().sum() * 100 / len(data_estate))\n",
        "\n",
        "# Create a table to display the results\n",
        "missing_value_df = pd.DataFrame({'column_name': data_estate.columns,\n",
        "                                 'percent_missing': percent_missing})\n",
        "\n",
        "# Sort the table by the percentage of missing values\n",
        "missing_value_df = missing_value_df.sort_values('percent_missing', ascending=False)\n",
        "\n",
        "# Print the table\n",
        "print(missing_value_df)\n"
      ],
      "metadata": {
        "colab": {
          "base_uri": "https://localhost:8080/"
        },
        "id": "R0ngOCP0K31S",
        "outputId": "1759df4a-3212-48dd-e6c1-7f33995c24a1"
      },
      "execution_count": 7,
      "outputs": [
        {
          "output_type": "stream",
          "name": "stdout",
          "text": [
            "                                           column_name  percent_missing\n",
            "expenses                                      expenses             99.0\n",
            "rooms                                            rooms             97.0\n",
            "price_usd_per_m2                      price_usd_per_m2             63.0\n",
            "surface_total_in_m2                surface_total_in_m2             49.0\n",
            "lon                                                lon             27.0\n",
            "lat                                                lat             27.0\n",
            "price_per_m2                              price_per_m2             18.0\n",
            "currency                                      currency              4.0\n",
            "price                                            price              1.0\n",
            "price_aprox_usd                        price_aprox_usd              1.0\n",
            "price_aprox_local_currency  price_aprox_local_currency              1.0\n",
            "Unnamed: 0                                  Unnamed: 0              0.0\n",
            "id                                                  id              0.0\n",
            "state_name                                  state_name              0.0\n",
            "country_name                              country_name              0.0\n",
            "place_with_parent_names        place_with_parent_names              0.0\n",
            "place_name                                  place_name              0.0\n",
            "property_type                            property_type              0.0\n",
            "operation                                    operation              0.0\n",
            "created_on                                  created_on              0.0\n",
            "title                                            title              0.0\n"
          ]
        }
      ]
    },
    {
      "cell_type": "code",
      "source": [
        "print(data_estate.shape)"
      ],
      "metadata": {
        "colab": {
          "base_uri": "https://localhost:8080/"
        },
        "id": "YscfoldgR9Um",
        "outputId": "4f606f1a-bb90-4b1e-f741-21d08d993215"
      },
      "execution_count": 8,
      "outputs": [
        {
          "output_type": "stream",
          "name": "stdout",
          "text": [
            "(3148360, 21)\n"
          ]
        }
      ]
    },
    {
      "cell_type": "markdown",
      "source": [
        "># Cleaning Dataset\n",
        "\n",
        "These columns were deleted: ['id','title','expenses','Unnamed']\n",
        "\n",
        "data_estate = data_estate.drop(['id','title','expenses','Unnamed'], axis=1)"
      ],
      "metadata": {
        "id": "P_nd-g4VO_zp"
      }
    },
    {
      "cell_type": "code",
      "source": [
        "data_estate=data_estate.drop(['id','title', 'expenses', 'place_with_parent_names', 'currency', 'country_name', 'Unnamed: 0', 'price_usd_per_m2','rooms'], axis=1)"
      ],
      "metadata": {
        "id": "n9LP5h04XfJy"
      },
      "execution_count": 9,
      "outputs": []
    },
    {
      "cell_type": "code",
      "source": [
        "print(data_estate.shape)\n",
        "display(data_estate.head())"
      ],
      "metadata": {
        "colab": {
          "base_uri": "https://localhost:8080/",
          "height": 287
        },
        "id": "ewZQa6aVZ2fh",
        "outputId": "71043cc9-b4e6-4618-8830-35fa1b86e83b"
      },
      "execution_count": 10,
      "outputs": [
        {
          "output_type": "stream",
          "name": "stdout",
          "text": [
            "(3148360, 12)\n"
          ]
        },
        {
          "output_type": "display_data",
          "data": {
            "text/plain": [
              "   created_on operation property_type place_name state_name        lat  \\\n",
              "0  2015-01-05      rent         house    Morelos    Morelos  18.824124   \n",
              "1  2015-01-05      rent         house    Morelos    Morelos  18.825402   \n",
              "2  2015-01-05      rent         store    Morelos    Morelos  18.823515   \n",
              "3  2015-01-05      rent         store    Tabasco    Tabasco  17.994583   \n",
              "4  2015-02-22      rent         house  Querétaro  Querétaro        NaN   \n",
              "\n",
              "         lon    price  price_aprox_local_currency  price_aprox_usd  \\\n",
              "0 -98.948113  10000.0                    11184.51           631.99   \n",
              "1 -98.946803  20000.0                    22485.30          1270.55   \n",
              "2 -98.949789   5000.0                     5652.51           319.40   \n",
              "3 -93.386271   8000.0                     7586.83           428.70   \n",
              "4        NaN  10000.0                    11711.01           661.74   \n",
              "\n",
              "   surface_total_in_m2  price_per_m2  \n",
              "0                500.0           NaN  \n",
              "1                480.0           NaN  \n",
              "2                180.0           NaN  \n",
              "3                528.0           NaN  \n",
              "4                  NaN          62.5  "
            ],
            "text/html": [
              "\n",
              "  <div id=\"df-ec3d32d7-8c6f-4c15-86ee-7135e81e73d7\">\n",
              "    <div class=\"colab-df-container\">\n",
              "      <div>\n",
              "<style scoped>\n",
              "    .dataframe tbody tr th:only-of-type {\n",
              "        vertical-align: middle;\n",
              "    }\n",
              "\n",
              "    .dataframe tbody tr th {\n",
              "        vertical-align: top;\n",
              "    }\n",
              "\n",
              "    .dataframe thead th {\n",
              "        text-align: right;\n",
              "    }\n",
              "</style>\n",
              "<table border=\"1\" class=\"dataframe\">\n",
              "  <thead>\n",
              "    <tr style=\"text-align: right;\">\n",
              "      <th></th>\n",
              "      <th>created_on</th>\n",
              "      <th>operation</th>\n",
              "      <th>property_type</th>\n",
              "      <th>place_name</th>\n",
              "      <th>state_name</th>\n",
              "      <th>lat</th>\n",
              "      <th>lon</th>\n",
              "      <th>price</th>\n",
              "      <th>price_aprox_local_currency</th>\n",
              "      <th>price_aprox_usd</th>\n",
              "      <th>surface_total_in_m2</th>\n",
              "      <th>price_per_m2</th>\n",
              "    </tr>\n",
              "  </thead>\n",
              "  <tbody>\n",
              "    <tr>\n",
              "      <th>0</th>\n",
              "      <td>2015-01-05</td>\n",
              "      <td>rent</td>\n",
              "      <td>house</td>\n",
              "      <td>Morelos</td>\n",
              "      <td>Morelos</td>\n",
              "      <td>18.824124</td>\n",
              "      <td>-98.948113</td>\n",
              "      <td>10000.0</td>\n",
              "      <td>11184.51</td>\n",
              "      <td>631.99</td>\n",
              "      <td>500.0</td>\n",
              "      <td>NaN</td>\n",
              "    </tr>\n",
              "    <tr>\n",
              "      <th>1</th>\n",
              "      <td>2015-01-05</td>\n",
              "      <td>rent</td>\n",
              "      <td>house</td>\n",
              "      <td>Morelos</td>\n",
              "      <td>Morelos</td>\n",
              "      <td>18.825402</td>\n",
              "      <td>-98.946803</td>\n",
              "      <td>20000.0</td>\n",
              "      <td>22485.30</td>\n",
              "      <td>1270.55</td>\n",
              "      <td>480.0</td>\n",
              "      <td>NaN</td>\n",
              "    </tr>\n",
              "    <tr>\n",
              "      <th>2</th>\n",
              "      <td>2015-01-05</td>\n",
              "      <td>rent</td>\n",
              "      <td>store</td>\n",
              "      <td>Morelos</td>\n",
              "      <td>Morelos</td>\n",
              "      <td>18.823515</td>\n",
              "      <td>-98.949789</td>\n",
              "      <td>5000.0</td>\n",
              "      <td>5652.51</td>\n",
              "      <td>319.40</td>\n",
              "      <td>180.0</td>\n",
              "      <td>NaN</td>\n",
              "    </tr>\n",
              "    <tr>\n",
              "      <th>3</th>\n",
              "      <td>2015-01-05</td>\n",
              "      <td>rent</td>\n",
              "      <td>store</td>\n",
              "      <td>Tabasco</td>\n",
              "      <td>Tabasco</td>\n",
              "      <td>17.994583</td>\n",
              "      <td>-93.386271</td>\n",
              "      <td>8000.0</td>\n",
              "      <td>7586.83</td>\n",
              "      <td>428.70</td>\n",
              "      <td>528.0</td>\n",
              "      <td>NaN</td>\n",
              "    </tr>\n",
              "    <tr>\n",
              "      <th>4</th>\n",
              "      <td>2015-02-22</td>\n",
              "      <td>rent</td>\n",
              "      <td>house</td>\n",
              "      <td>Querétaro</td>\n",
              "      <td>Querétaro</td>\n",
              "      <td>NaN</td>\n",
              "      <td>NaN</td>\n",
              "      <td>10000.0</td>\n",
              "      <td>11711.01</td>\n",
              "      <td>661.74</td>\n",
              "      <td>NaN</td>\n",
              "      <td>62.5</td>\n",
              "    </tr>\n",
              "  </tbody>\n",
              "</table>\n",
              "</div>\n",
              "      <button class=\"colab-df-convert\" onclick=\"convertToInteractive('df-ec3d32d7-8c6f-4c15-86ee-7135e81e73d7')\"\n",
              "              title=\"Convert this dataframe to an interactive table.\"\n",
              "              style=\"display:none;\">\n",
              "        \n",
              "  <svg xmlns=\"http://www.w3.org/2000/svg\" height=\"24px\"viewBox=\"0 0 24 24\"\n",
              "       width=\"24px\">\n",
              "    <path d=\"M0 0h24v24H0V0z\" fill=\"none\"/>\n",
              "    <path d=\"M18.56 5.44l.94 2.06.94-2.06 2.06-.94-2.06-.94-.94-2.06-.94 2.06-2.06.94zm-11 1L8.5 8.5l.94-2.06 2.06-.94-2.06-.94L8.5 2.5l-.94 2.06-2.06.94zm10 10l.94 2.06.94-2.06 2.06-.94-2.06-.94-.94-2.06-.94 2.06-2.06.94z\"/><path d=\"M17.41 7.96l-1.37-1.37c-.4-.4-.92-.59-1.43-.59-.52 0-1.04.2-1.43.59L10.3 9.45l-7.72 7.72c-.78.78-.78 2.05 0 2.83L4 21.41c.39.39.9.59 1.41.59.51 0 1.02-.2 1.41-.59l7.78-7.78 2.81-2.81c.8-.78.8-2.07 0-2.86zM5.41 20L4 18.59l7.72-7.72 1.47 1.35L5.41 20z\"/>\n",
              "  </svg>\n",
              "      </button>\n",
              "      \n",
              "  <style>\n",
              "    .colab-df-container {\n",
              "      display:flex;\n",
              "      flex-wrap:wrap;\n",
              "      gap: 12px;\n",
              "    }\n",
              "\n",
              "    .colab-df-convert {\n",
              "      background-color: #E8F0FE;\n",
              "      border: none;\n",
              "      border-radius: 50%;\n",
              "      cursor: pointer;\n",
              "      display: none;\n",
              "      fill: #1967D2;\n",
              "      height: 32px;\n",
              "      padding: 0 0 0 0;\n",
              "      width: 32px;\n",
              "    }\n",
              "\n",
              "    .colab-df-convert:hover {\n",
              "      background-color: #E2EBFA;\n",
              "      box-shadow: 0px 1px 2px rgba(60, 64, 67, 0.3), 0px 1px 3px 1px rgba(60, 64, 67, 0.15);\n",
              "      fill: #174EA6;\n",
              "    }\n",
              "\n",
              "    [theme=dark] .colab-df-convert {\n",
              "      background-color: #3B4455;\n",
              "      fill: #D2E3FC;\n",
              "    }\n",
              "\n",
              "    [theme=dark] .colab-df-convert:hover {\n",
              "      background-color: #434B5C;\n",
              "      box-shadow: 0px 1px 3px 1px rgba(0, 0, 0, 0.15);\n",
              "      filter: drop-shadow(0px 1px 2px rgba(0, 0, 0, 0.3));\n",
              "      fill: #FFFFFF;\n",
              "    }\n",
              "  </style>\n",
              "\n",
              "      <script>\n",
              "        const buttonEl =\n",
              "          document.querySelector('#df-ec3d32d7-8c6f-4c15-86ee-7135e81e73d7 button.colab-df-convert');\n",
              "        buttonEl.style.display =\n",
              "          google.colab.kernel.accessAllowed ? 'block' : 'none';\n",
              "\n",
              "        async function convertToInteractive(key) {\n",
              "          const element = document.querySelector('#df-ec3d32d7-8c6f-4c15-86ee-7135e81e73d7');\n",
              "          const dataTable =\n",
              "            await google.colab.kernel.invokeFunction('convertToInteractive',\n",
              "                                                     [key], {});\n",
              "          if (!dataTable) return;\n",
              "\n",
              "          const docLinkHtml = 'Like what you see? Visit the ' +\n",
              "            '<a target=\"_blank\" href=https://colab.research.google.com/notebooks/data_table.ipynb>data table notebook</a>'\n",
              "            + ' to learn more about interactive tables.';\n",
              "          element.innerHTML = '';\n",
              "          dataTable['output_type'] = 'display_data';\n",
              "          await google.colab.output.renderOutput(dataTable, element);\n",
              "          const docLink = document.createElement('div');\n",
              "          docLink.innerHTML = docLinkHtml;\n",
              "          element.appendChild(docLink);\n",
              "        }\n",
              "      </script>\n",
              "    </div>\n",
              "  </div>\n",
              "  "
            ]
          },
          "metadata": {}
        }
      ]
    },
    {
      "cell_type": "markdown",
      "source": [
        "## Deletion of repeated rows"
      ],
      "metadata": {
        "id": "9_81-xyX8MdW"
      }
    },
    {
      "cell_type": "code",
      "source": [
        "print(f'Size prior to removing repeated rows: {data_estate.shape}')\n",
        "data_estate.drop_duplicates(inplace=True)\n",
        "print(f'Size after to removing repeated rows: {data_estate.shape}')\n"
      ],
      "metadata": {
        "colab": {
          "base_uri": "https://localhost:8080/"
        },
        "id": "HAm83RH-6L41",
        "outputId": "d85e76cc-9b92-4251-8745-b9cded8088e3"
      },
      "execution_count": 11,
      "outputs": [
        {
          "output_type": "stream",
          "name": "stdout",
          "text": [
            "Size prior to removing repeated rows: (3148360, 12)\n",
            "Size after to removing repeated rows: (1705662, 12)\n"
          ]
        }
      ]
    },
    {
      "cell_type": "markdown",
      "source": [
        ">># Calculate the percentage of missing values in each column"
      ],
      "metadata": {
        "id": "GqT_wp_Zcu93"
      }
    },
    {
      "cell_type": "code",
      "source": [
        "# Calculate the percentage of missing values in each column\n",
        "percent_missing = round(data_estate.isnull().sum() * 100 / len(data_estate))\n",
        "\n",
        "# Create a table to display the results\n",
        "missing_value_df = pd.DataFrame({'column_name': data_estate.columns,\n",
        "                                 'percent_missing': percent_missing})\n",
        "\n",
        "# Sort the table by the percentage of missing values\n",
        "missing_value_df = missing_value_df.sort_values('percent_missing', ascending=False)\n",
        "\n",
        "# Print the table\n",
        "print(missing_value_df)"
      ],
      "metadata": {
        "colab": {
          "base_uri": "https://localhost:8080/"
        },
        "id": "lLtzHD7tU5Jf",
        "outputId": "f89df5d7-8164-4ae5-aa92-39281e4d7e3f"
      },
      "execution_count": 12,
      "outputs": [
        {
          "output_type": "stream",
          "name": "stdout",
          "text": [
            "                                           column_name  percent_missing\n",
            "surface_total_in_m2                surface_total_in_m2             53.0\n",
            "lat                                                lat             26.0\n",
            "lon                                                lon             26.0\n",
            "price_per_m2                              price_per_m2             16.0\n",
            "created_on                                  created_on              0.0\n",
            "operation                                    operation              0.0\n",
            "property_type                            property_type              0.0\n",
            "place_name                                  place_name              0.0\n",
            "state_name                                  state_name              0.0\n",
            "price                                            price              0.0\n",
            "price_aprox_local_currency  price_aprox_local_currency              0.0\n",
            "price_aprox_usd                        price_aprox_usd              0.0\n"
          ]
        }
      ]
    },
    {
      "cell_type": "markdown",
      "source": [
        "># Imputing missing values: Quantitative values"
      ],
      "metadata": {
        "id": "wnf8MzY7UNAV"
      }
    },
    {
      "cell_type": "code",
      "source": [
        "from sklearn.impute import SimpleImputer\n",
        "\n",
        "# Create a new DataFrame with only the quantitative columns\n",
        "quantitative_cols = ['price', 'lon', 'price_aprox_usd', 'surface_total_in_m2', 'lat', 'price_per_m2', 'price_aprox_local_currency']\n",
        "data_quantitative = data_estate[quantitative_cols]\n",
        "\n",
        "# Create a SimpleImputer object to impute missing values with the median\n",
        "imputer = SimpleImputer(strategy='median')\n",
        "\n",
        "# Fit the imputer to the data and transform the data\n",
        "data_quantitative_imputed = imputer.fit_transform(data_quantitative)\n",
        "\n",
        "# Replace the original columns with the imputed columns in the original DataFrame\n",
        "data_estate[quantitative_cols] = data_quantitative_imputed"
      ],
      "metadata": {
        "id": "-LzKj9dTUV6Q"
      },
      "execution_count": 13,
      "outputs": []
    },
    {
      "cell_type": "markdown",
      "source": [
        ">># Calculate the percentage of missing values in each column\n"
      ],
      "metadata": {
        "id": "8d6hMsOmc30x"
      }
    },
    {
      "cell_type": "code",
      "source": [
        "# Calculate the percentage of missing values in each column\n",
        "percent_missing = round(data_estate.isnull().sum() * 100 / len(data_estate))\n",
        "\n",
        "# Create a table to display the results\n",
        "missing_value_df = pd.DataFrame({'column_name': data_estate.columns,\n",
        "                                 'percent_missing': percent_missing})\n",
        "\n",
        "# Sort the table by the percentage of missing values\n",
        "missing_value_df = missing_value_df.sort_values('percent_missing', ascending=False)\n",
        "\n",
        "# Print the table\n",
        "print(missing_value_df)"
      ],
      "metadata": {
        "colab": {
          "base_uri": "https://localhost:8080/"
        },
        "id": "eMK1vENLcFd1",
        "outputId": "28a8678e-0b6b-45ca-d7c0-dbc461efd4e1"
      },
      "execution_count": 14,
      "outputs": [
        {
          "output_type": "stream",
          "name": "stdout",
          "text": [
            "                                           column_name  percent_missing\n",
            "created_on                                  created_on              0.0\n",
            "operation                                    operation              0.0\n",
            "property_type                            property_type              0.0\n",
            "place_name                                  place_name              0.0\n",
            "state_name                                  state_name              0.0\n",
            "lat                                                lat              0.0\n",
            "lon                                                lon              0.0\n",
            "price                                            price              0.0\n",
            "price_aprox_local_currency  price_aprox_local_currency              0.0\n",
            "price_aprox_usd                        price_aprox_usd              0.0\n",
            "surface_total_in_m2                surface_total_in_m2              0.0\n",
            "price_per_m2                              price_per_m2              0.0\n"
          ]
        }
      ]
    },
    {
      "cell_type": "markdown",
      "source": [
        "># Calculate the percentage of missing values in each column after cleaning"
      ],
      "metadata": {
        "id": "nLUsbO4JdVAy"
      }
    },
    {
      "cell_type": "code",
      "source": [
        "# Calculate the percentage of missing values in each column\n",
        "percent_missing = round(data_estate.isnull().sum() * 100 / len(data_estate))\n",
        "\n",
        "# Create a table to display the results\n",
        "missing_value_df = pd.DataFrame({'column_name': data_estate.columns,\n",
        "                                 'percent_missing': percent_missing})\n",
        "\n",
        "# Sort the table by the percentage of missing values\n",
        "missing_value_df = missing_value_df.sort_values('percent_missing', ascending=False)\n",
        "\n",
        "# Print the table\n",
        "print(missing_value_df)"
      ],
      "metadata": {
        "colab": {
          "base_uri": "https://localhost:8080/"
        },
        "id": "JVs6GPOudmd9",
        "outputId": "d7a39e2f-6668-4bd3-eb05-5ca7995092bc"
      },
      "execution_count": 15,
      "outputs": [
        {
          "output_type": "stream",
          "name": "stdout",
          "text": [
            "                                           column_name  percent_missing\n",
            "created_on                                  created_on              0.0\n",
            "operation                                    operation              0.0\n",
            "property_type                            property_type              0.0\n",
            "place_name                                  place_name              0.0\n",
            "state_name                                  state_name              0.0\n",
            "lat                                                lat              0.0\n",
            "lon                                                lon              0.0\n",
            "price                                            price              0.0\n",
            "price_aprox_local_currency  price_aprox_local_currency              0.0\n",
            "price_aprox_usd                        price_aprox_usd              0.0\n",
            "surface_total_in_m2                surface_total_in_m2              0.0\n",
            "price_per_m2                              price_per_m2              0.0\n"
          ]
        }
      ]
    },
    {
      "cell_type": "markdown",
      "source": [
        "# Verifying irrelevant columns"
      ],
      "metadata": {
        "id": "sGL-bqm3F9k0"
      }
    },
    {
      "cell_type": "code",
      "source": [
        "categorical_cols = ['property_type', 'state_name','operation', 'place_name']\n",
        "for col in categorical_cols:\n",
        "    print(f\"Column: {col} : {data_estate[col].nunique()} sublevels\")\n",
        "    print(data_estate[col].value_counts())\n",
        "    print(\"\\n\")"
      ],
      "metadata": {
        "colab": {
          "base_uri": "https://localhost:8080/"
        },
        "id": "FUvsPSu4g0KM",
        "outputId": "15ae9253-54f0-413e-f3dc-f6ce69695d65"
      },
      "execution_count": 16,
      "outputs": [
        {
          "output_type": "stream",
          "name": "stdout",
          "text": [
            "Column: property_type : 4 sublevels\n",
            "house        1150347\n",
            "apartment     448529\n",
            "store         106540\n",
            "PH               246\n",
            "Name: property_type, dtype: int64\n",
            "\n",
            "\n",
            "Column: state_name : 33 sublevels\n",
            "Estado de México                   208101\n",
            "Baja California                    157874\n",
            "Querétaro                          129804\n",
            "Veracruz de Ignacio de la Llave    123115\n",
            "Distrito Federal                   117821\n",
            "Morelos                            113008\n",
            "Yucatán                            111750\n",
            "Nuevo León                         111507\n",
            "Puebla                              99834\n",
            "Quintana Roo                        68687\n",
            "Guerrero                            59646\n",
            "Jalisco                             55388\n",
            "Chiapas                             45985\n",
            "Guanajuato                          38642\n",
            "Tamaulipas                          35199\n",
            "Chihuahua                           31750\n",
            "Sinaloa                             30965\n",
            "San Luis Potosí                     26210\n",
            "Hidalgo                             23634\n",
            "Tabasco                             22028\n",
            "Aguascalientes                      16171\n",
            "Durango                             13116\n",
            "Baja California Sur                 11821\n",
            "Sonora                              11737\n",
            "Colima                              11190\n",
            "Campeche                             8964\n",
            "Nayarit                              8604\n",
            "Tlaxcala                             5029\n",
            "Oaxaca                               4594\n",
            "Zacatecas                            1960\n",
            "Coahuila de Zaragoza                 1356\n",
            "Ciudad de México                      137\n",
            "Michoacán de Ocampo                    35\n",
            "Name: state_name, dtype: int64\n",
            "\n",
            "\n",
            "Column: operation : 2 sublevels\n",
            "sell    1336034\n",
            "rent     369628\n",
            "Name: operation, dtype: int64\n",
            "\n",
            "\n",
            "Column: place_name : 8600 sublevels\n",
            "Distrito Federal            126659\n",
            "Veracruz                     81100\n",
            "Querétaro                    78491\n",
            "Mérida                       70907\n",
            "Cuernavaca                   49312\n",
            "                             ...  \n",
            "Capilla I                        1\n",
            "Laderas de San Guillermo         1\n",
            "Playa Palmas                     1\n",
            "Las Estancias 2da Etapa          1\n",
            "INFONAVIT San Pedro              1\n",
            "Name: place_name, Length: 8600, dtype: int64\n",
            "\n",
            "\n"
          ]
        }
      ]
    },
    {
      "cell_type": "markdown",
      "source": [
        "# Verifying Quantitative variables"
      ],
      "metadata": {
        "id": "MjvcaQR9FxyO"
      }
    },
    {
      "cell_type": "code",
      "source": [
        "data_estate.describe()"
      ],
      "metadata": {
        "colab": {
          "base_uri": "https://localhost:8080/",
          "height": 364
        },
        "id": "ptFav4rY4a-S",
        "outputId": "f811475f-c6ff-4a39-dc26-df520140f681"
      },
      "execution_count": 17,
      "outputs": [
        {
          "output_type": "execute_result",
          "data": {
            "text/plain": [
              "                lat           lon         price  price_aprox_local_currency  \\\n",
              "count  1.705662e+06  1.705662e+06  1.705662e+06                1.705662e+06   \n",
              "mean   2.073638e+01 -9.892449e+01  2.591644e+06                3.205919e+06   \n",
              "std    2.616002e+00  4.603018e+00  6.629746e+06                8.927110e+06   \n",
              "min   -2.869301e+01 -1.316414e+02  0.000000e+00                0.000000e+00   \n",
              "25%    1.939042e+01 -1.002060e+02  2.610000e+05                3.513020e+05   \n",
              "50%    2.019950e+01 -9.923715e+01  1.300000e+06                1.474979e+06   \n",
              "75%    2.095622e+01 -9.901566e+01  2.950000e+06                3.318294e+06   \n",
              "max    8.998116e+01  1.052345e+02  9.457500e+08                9.452642e+08   \n",
              "\n",
              "       price_aprox_usd  surface_total_in_m2  price_per_m2  \n",
              "count     1.705662e+06         1.705662e+06  1.705662e+06  \n",
              "mean      1.739879e+05         2.798857e+02  1.408403e+04  \n",
              "std       4.836852e+05         2.235340e+03  3.013502e+05  \n",
              "min       0.000000e+00        -1.330000e+02  3.972611e-06  \n",
              "25%       1.910223e+04         1.500000e+02  6.048547e+03  \n",
              "50%       7.989737e+04         1.500000e+02  1.000000e+04  \n",
              "75%       1.800504e+05         1.500000e+02  1.364912e+04  \n",
              "max       4.804075e+07         2.000000e+05  1.995000e+08  "
            ],
            "text/html": [
              "\n",
              "  <div id=\"df-0722f700-2043-43cc-ac69-f069eddf48e5\">\n",
              "    <div class=\"colab-df-container\">\n",
              "      <div>\n",
              "<style scoped>\n",
              "    .dataframe tbody tr th:only-of-type {\n",
              "        vertical-align: middle;\n",
              "    }\n",
              "\n",
              "    .dataframe tbody tr th {\n",
              "        vertical-align: top;\n",
              "    }\n",
              "\n",
              "    .dataframe thead th {\n",
              "        text-align: right;\n",
              "    }\n",
              "</style>\n",
              "<table border=\"1\" class=\"dataframe\">\n",
              "  <thead>\n",
              "    <tr style=\"text-align: right;\">\n",
              "      <th></th>\n",
              "      <th>lat</th>\n",
              "      <th>lon</th>\n",
              "      <th>price</th>\n",
              "      <th>price_aprox_local_currency</th>\n",
              "      <th>price_aprox_usd</th>\n",
              "      <th>surface_total_in_m2</th>\n",
              "      <th>price_per_m2</th>\n",
              "    </tr>\n",
              "  </thead>\n",
              "  <tbody>\n",
              "    <tr>\n",
              "      <th>count</th>\n",
              "      <td>1.705662e+06</td>\n",
              "      <td>1.705662e+06</td>\n",
              "      <td>1.705662e+06</td>\n",
              "      <td>1.705662e+06</td>\n",
              "      <td>1.705662e+06</td>\n",
              "      <td>1.705662e+06</td>\n",
              "      <td>1.705662e+06</td>\n",
              "    </tr>\n",
              "    <tr>\n",
              "      <th>mean</th>\n",
              "      <td>2.073638e+01</td>\n",
              "      <td>-9.892449e+01</td>\n",
              "      <td>2.591644e+06</td>\n",
              "      <td>3.205919e+06</td>\n",
              "      <td>1.739879e+05</td>\n",
              "      <td>2.798857e+02</td>\n",
              "      <td>1.408403e+04</td>\n",
              "    </tr>\n",
              "    <tr>\n",
              "      <th>std</th>\n",
              "      <td>2.616002e+00</td>\n",
              "      <td>4.603018e+00</td>\n",
              "      <td>6.629746e+06</td>\n",
              "      <td>8.927110e+06</td>\n",
              "      <td>4.836852e+05</td>\n",
              "      <td>2.235340e+03</td>\n",
              "      <td>3.013502e+05</td>\n",
              "    </tr>\n",
              "    <tr>\n",
              "      <th>min</th>\n",
              "      <td>-2.869301e+01</td>\n",
              "      <td>-1.316414e+02</td>\n",
              "      <td>0.000000e+00</td>\n",
              "      <td>0.000000e+00</td>\n",
              "      <td>0.000000e+00</td>\n",
              "      <td>-1.330000e+02</td>\n",
              "      <td>3.972611e-06</td>\n",
              "    </tr>\n",
              "    <tr>\n",
              "      <th>25%</th>\n",
              "      <td>1.939042e+01</td>\n",
              "      <td>-1.002060e+02</td>\n",
              "      <td>2.610000e+05</td>\n",
              "      <td>3.513020e+05</td>\n",
              "      <td>1.910223e+04</td>\n",
              "      <td>1.500000e+02</td>\n",
              "      <td>6.048547e+03</td>\n",
              "    </tr>\n",
              "    <tr>\n",
              "      <th>50%</th>\n",
              "      <td>2.019950e+01</td>\n",
              "      <td>-9.923715e+01</td>\n",
              "      <td>1.300000e+06</td>\n",
              "      <td>1.474979e+06</td>\n",
              "      <td>7.989737e+04</td>\n",
              "      <td>1.500000e+02</td>\n",
              "      <td>1.000000e+04</td>\n",
              "    </tr>\n",
              "    <tr>\n",
              "      <th>75%</th>\n",
              "      <td>2.095622e+01</td>\n",
              "      <td>-9.901566e+01</td>\n",
              "      <td>2.950000e+06</td>\n",
              "      <td>3.318294e+06</td>\n",
              "      <td>1.800504e+05</td>\n",
              "      <td>1.500000e+02</td>\n",
              "      <td>1.364912e+04</td>\n",
              "    </tr>\n",
              "    <tr>\n",
              "      <th>max</th>\n",
              "      <td>8.998116e+01</td>\n",
              "      <td>1.052345e+02</td>\n",
              "      <td>9.457500e+08</td>\n",
              "      <td>9.452642e+08</td>\n",
              "      <td>4.804075e+07</td>\n",
              "      <td>2.000000e+05</td>\n",
              "      <td>1.995000e+08</td>\n",
              "    </tr>\n",
              "  </tbody>\n",
              "</table>\n",
              "</div>\n",
              "      <button class=\"colab-df-convert\" onclick=\"convertToInteractive('df-0722f700-2043-43cc-ac69-f069eddf48e5')\"\n",
              "              title=\"Convert this dataframe to an interactive table.\"\n",
              "              style=\"display:none;\">\n",
              "        \n",
              "  <svg xmlns=\"http://www.w3.org/2000/svg\" height=\"24px\"viewBox=\"0 0 24 24\"\n",
              "       width=\"24px\">\n",
              "    <path d=\"M0 0h24v24H0V0z\" fill=\"none\"/>\n",
              "    <path d=\"M18.56 5.44l.94 2.06.94-2.06 2.06-.94-2.06-.94-.94-2.06-.94 2.06-2.06.94zm-11 1L8.5 8.5l.94-2.06 2.06-.94-2.06-.94L8.5 2.5l-.94 2.06-2.06.94zm10 10l.94 2.06.94-2.06 2.06-.94-2.06-.94-.94-2.06-.94 2.06-2.06.94z\"/><path d=\"M17.41 7.96l-1.37-1.37c-.4-.4-.92-.59-1.43-.59-.52 0-1.04.2-1.43.59L10.3 9.45l-7.72 7.72c-.78.78-.78 2.05 0 2.83L4 21.41c.39.39.9.59 1.41.59.51 0 1.02-.2 1.41-.59l7.78-7.78 2.81-2.81c.8-.78.8-2.07 0-2.86zM5.41 20L4 18.59l7.72-7.72 1.47 1.35L5.41 20z\"/>\n",
              "  </svg>\n",
              "      </button>\n",
              "      \n",
              "  <style>\n",
              "    .colab-df-container {\n",
              "      display:flex;\n",
              "      flex-wrap:wrap;\n",
              "      gap: 12px;\n",
              "    }\n",
              "\n",
              "    .colab-df-convert {\n",
              "      background-color: #E8F0FE;\n",
              "      border: none;\n",
              "      border-radius: 50%;\n",
              "      cursor: pointer;\n",
              "      display: none;\n",
              "      fill: #1967D2;\n",
              "      height: 32px;\n",
              "      padding: 0 0 0 0;\n",
              "      width: 32px;\n",
              "    }\n",
              "\n",
              "    .colab-df-convert:hover {\n",
              "      background-color: #E2EBFA;\n",
              "      box-shadow: 0px 1px 2px rgba(60, 64, 67, 0.3), 0px 1px 3px 1px rgba(60, 64, 67, 0.15);\n",
              "      fill: #174EA6;\n",
              "    }\n",
              "\n",
              "    [theme=dark] .colab-df-convert {\n",
              "      background-color: #3B4455;\n",
              "      fill: #D2E3FC;\n",
              "    }\n",
              "\n",
              "    [theme=dark] .colab-df-convert:hover {\n",
              "      background-color: #434B5C;\n",
              "      box-shadow: 0px 1px 3px 1px rgba(0, 0, 0, 0.15);\n",
              "      filter: drop-shadow(0px 1px 2px rgba(0, 0, 0, 0.3));\n",
              "      fill: #FFFFFF;\n",
              "    }\n",
              "  </style>\n",
              "\n",
              "      <script>\n",
              "        const buttonEl =\n",
              "          document.querySelector('#df-0722f700-2043-43cc-ac69-f069eddf48e5 button.colab-df-convert');\n",
              "        buttonEl.style.display =\n",
              "          google.colab.kernel.accessAllowed ? 'block' : 'none';\n",
              "\n",
              "        async function convertToInteractive(key) {\n",
              "          const element = document.querySelector('#df-0722f700-2043-43cc-ac69-f069eddf48e5');\n",
              "          const dataTable =\n",
              "            await google.colab.kernel.invokeFunction('convertToInteractive',\n",
              "                                                     [key], {});\n",
              "          if (!dataTable) return;\n",
              "\n",
              "          const docLinkHtml = 'Like what you see? Visit the ' +\n",
              "            '<a target=\"_blank\" href=https://colab.research.google.com/notebooks/data_table.ipynb>data table notebook</a>'\n",
              "            + ' to learn more about interactive tables.';\n",
              "          element.innerHTML = '';\n",
              "          dataTable['output_type'] = 'display_data';\n",
              "          await google.colab.output.renderOutput(dataTable, element);\n",
              "          const docLink = document.createElement('div');\n",
              "          docLink.innerHTML = docLinkHtml;\n",
              "          element.appendChild(docLink);\n",
              "        }\n",
              "      </script>\n",
              "    </div>\n",
              "  </div>\n",
              "  "
            ]
          },
          "metadata": {},
          "execution_count": 17
        }
      ]
    },
    {
      "cell_type": "markdown",
      "source": [
        ">## Verifying Outliers"
      ],
      "metadata": {
        "id": "3id5gzxu-dGC"
      }
    },
    {
      "cell_type": "code",
      "source": [
        "# Define the quantitative variables\n",
        "quantitative_cols = ['price', 'price_aprox_local_currency', 'price_aprox_usd',\n",
        "                     'surface_total_in_m2', 'price_per_m2']\n",
        "\n",
        "# Create a figure with a grid of plots\n",
        "fig, axs = plt.subplots(nrows=3, ncols=3, figsize=(20, 15))\n",
        "axs = axs.flatten()\n",
        "\n",
        "# Create a boxplot for each variable and add it to the corresponding subplot\n",
        "for i, col in enumerate(quantitative_cols):\n",
        "    sn.boxplot(x=data_estate[col], ax=axs[i], palette='Set3')\n",
        "    axs[i].set_xlabel(col)\n",
        "\n",
        "# Remove any extra subplots\n",
        "for i in range(len(quantitative_cols), len(axs)):\n",
        "    axs[i].remove()\n",
        "\n",
        "plt.tight_layout()\n",
        "plt.show()"
      ],
      "metadata": {
        "colab": {
          "base_uri": "https://localhost:8080/",
          "height": 539
        },
        "id": "fsTRMco8AEtD",
        "outputId": "13de089d-0e92-4b2a-90e3-f81bdc825261"
      },
      "execution_count": 20,
      "outputs": [
        {
          "output_type": "display_data",
          "data": {
            "text/plain": [
              "<Figure size 2000x1500 with 5 Axes>"
            ],
            "image/png": "[encoded data removed]"
          },
          "metadata": {}
        }
      ]
    },
    {
      "cell_type": "markdown",
      "source": [
        "# According to this analysis we have no typographical errors."
      ],
      "metadata": {
        "id": "E7Xump_vMO8X"
      }
    },
    {
      "cell_type": "code",
      "source": [
        "categorical_cols = ['property_type', 'state_name', 'operation']\n",
        "\n",
        "for col in categorical_cols:\n",
        "    sublevels = data_estate[col].value_counts()\n",
        "    fig, ax = plt.subplots()\n",
        "    sn.barplot(x=sublevels.index, y=sublevels.values, ax=ax, palette=\"Set3\")\n",
        "    ax.set_title(f\"{col}\")\n",
        "    ax.set_xlabel(\"Sub-levels\")\n",
        "    ax.set_ylabel(\"Count\")\n",
        "    plt.xticks(rotation=90)\n",
        "    plt.show()"
      ],
      "metadata": {
        "colab": {
          "base_uri": "https://localhost:8080/",
          "height": 1000
        },
        "id": "ubH8_9VnIiRO",
        "outputId": "627bca60-f9b2-431b-a5ff-ed37e67acce1"
      },
      "execution_count": 21,
      "outputs": [
        {
          "output_type": "display_data",
          "data": {
            "text/plain": [
              "<Figure size 640x480 with 1 Axes>"
            ],
            "image/png": "[encoded data removed]"
          },
          "metadata": {}
        },
        {
          "output_type": "display_data",
          "data": {
            "text/plain": [
              "<Figure size 640x480 with 1 Axes>"
            ],
            "image/png": "[encoded data removed]"
          },
          "metadata": {}
        },
        {
          "output_type": "display_data",
          "data": {
            "text/plain": [
              "<Figure size 640x480 with 1 Axes>"
            ],
            "image/png": "[encoded data removed]"
          },
          "metadata": {}
        }
      ]
    },
    {
      "cell_type": "markdown",
      "source": [
        "># Our initial dataset contained (3148360, 21), but after data cleansing, we now have a dataset containing (1705769, 12). This new dataset will serve as the basis for our exploratory data analysis.\n"
      ],
      "metadata": {
        "id": "_7-mqImQOo8_"
      }
    },
    {
      "cell_type": "code",
      "source": [
        "print(f'Size after to removing repeated rows: {data_estate.shape}')"
      ],
      "metadata": {
        "colab": {
          "base_uri": "https://localhost:8080/"
        },
        "id": "l0qNMc5rFdyf",
        "outputId": "a8323bc6-4b38-4bb1-901f-90354a65ae1f"
      },
      "execution_count": 24,
      "outputs": [
        {
          "output_type": "stream",
          "name": "stdout",
          "text": [
            "Size after to removing repeated rows: (1705636, 12)\n"
          ]
        }
      ]
    },
    {
      "cell_type": "code",
      "source": [
        "path = '/content/drive/MyDrive/DataScience_UWinnipeg/properati_properties_Mexico_clean.csv'\n",
        "data_estate.to_csv(path)"
      ],
      "metadata": {
        "id": "TJO7kGLINOFl"
      },
      "execution_count": 22,
      "outputs": []
    }
  ]
}