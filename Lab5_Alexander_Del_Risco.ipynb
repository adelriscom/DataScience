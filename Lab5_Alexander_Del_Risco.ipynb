{
  "nbformat": 4,
  "nbformat_minor": 0,
  "metadata": {
    "colab": {
      "provenance": [],
      "mount_file_id": "1j0aoXF9GBZxnZtCEUO2fUZG_KBeFxP_Y",
      "authorship_tag": "ABX9TyMalOEuPKr/PYlGAZs0XjdW",
      "include_colab_link": true
    },
    "kernelspec": {
      "name": "python3",
      "display_name": "Python 3"
    },
    "language_info": {
      "name": "python"
    }
  },
  "cells": [
    {
      "cell_type": "markdown",
      "metadata": {
        "id": "view-in-github",
        "colab_type": "text"
      },
      "source": [
        "<a href=\"https://colab.research.google.com/github/adelriscom/DataScience/blob/main/Lab5_Alexander_Del_Risco.ipynb\" target=\"_parent\"><img src=\"https://colab.research.google.com/assets/colab-badge.svg\" alt=\"Open In Colab\"/></a>"
      ]
    },
    {
      "cell_type": "code",
      "execution_count": 1,
      "metadata": {
        "id": "FQwXlz6A5EAB"
      },
      "outputs": [],
      "source": [
        "import numpy as np\n",
        "import matplotlib.pyplot as plt\n",
        "import scipy.stats as st\n",
        "import pandas as pd\n",
        "from IPython.display import display"
      ]
    },
    {
      "cell_type": "markdown",
      "source": [
        "# Load the census income dataset"
      ],
      "metadata": {
        "id": "-NHBO55Ia-GQ"
      }
    },
    {
      "cell_type": "code",
      "source": [
        "census_income_df = pd.read_csv('/content/drive/MyDrive/DataScience_UWinnipeg/cleaned_census_income.csv')"
      ],
      "metadata": {
        "id": "BAk_FAkU6G5-"
      },
      "execution_count": 4,
      "outputs": []
    },
    {
      "cell_type": "markdown",
      "source": [
        "## The US Department of Labor is interested in studying the population proportion of American adults who work for the workclass = private sector and have an annual income greater than $50k."
      ],
      "metadata": {
        "id": "1B2s5BxdSENJ"
      }
    },
    {
      "cell_type": "markdown",
      "source": [
        "### To estimate the point estimation for the population proportion of American adults who work for the Private sector and have an annual income greater than $50k, we can calculate the sample proportion from the given dataset."
      ],
      "metadata": {
        "id": "olu-quTwS1K_"
      }
    },
    {
      "cell_type": "markdown",
      "source": [
        ">First, we can filter the dataset to only include those who work for the Private sector and have an income greater than $50k:"
      ],
      "metadata": {
        "id": "7neFqArLSWHy"
      }
    },
    {
      "cell_type": "code",
      "source": [
        "private_over_50k = census_income_df[(census_income_df['workclass'] == 'Private') & (census_income_df['income'] == '>50K')]\n"
      ],
      "metadata": {
        "id": "7b0FZhEnSUZx"
      },
      "execution_count": 5,
      "outputs": []
    },
    {
      "cell_type": "markdown",
      "source": [
        ">Then, we can calculate the point estimation for the population proportion of X:"
      ],
      "metadata": {
        "id": "0nXRzxeUTdm2"
      }
    },
    {
      "cell_type": "code",
      "source": [
        "p_hat = len(private_over_50k) / len(census_income_df)"
      ],
      "metadata": {
        "id": "JKjUSnUmTk0f"
      },
      "execution_count": 6,
      "outputs": []
    },
    {
      "cell_type": "markdown",
      "source": [
        ">To estimate the 95% confidence interval for the population proportion of X, we can use the formula:\n",
        "\n",
        ">* CI = (p_hat - z_star * se, p_hat + z_star * se)\n",
        "\n",
        ">where z_star = 1.96 for a 95% confidence level and se is the standard error, which can be calculated as:\n"
      ],
      "metadata": {
        "id": "Q1qpmLvdUCEo"
      }
    },
    {
      "cell_type": "code",
      "source": [
        "se = np.sqrt(p_hat * (1 - p_hat) / len(census_income_df))\n",
        "\n",
        "# calculate confidence interval\n",
        "z_star = 1.96 # for a 95% confidence level\n",
        "CI = (p_hat - z_star * se, p_hat + z_star * se)\n",
        "\n",
        "print(\"Point estimation for population proportion of X:\", p_hat)\n",
        "print(\"95% Confidence interval for population proportion of X:\", CI)"
      ],
      "metadata": {
        "colab": {
          "base_uri": "https://localhost:8080/"
        },
        "id": "_BdOGpEVUrxG",
        "outputId": "9c87f737-680a-4fe6-a2e0-8f9004a8cb18"
      },
      "execution_count": 8,
      "outputs": [
        {
          "output_type": "stream",
          "name": "stdout",
          "text": [
            "Point estimation for population proportion of X: 0.16166036734964526\n",
            "95% Confidence interval for population proportion of X: (0.15750568539951126, 0.16581504929977925)\n"
          ]
        }
      ]
    },
    {
      "cell_type": "markdown",
      "source": [
        "## To conduct a hypothesis testing for the population proportion of X, we can set up the null and alternative hypotheses:\n",
        "\n",
        "* H0: The population proportion of American adults who work for the Private sector and have an annual income greater than $50k is 0.25 (as stated in the recent study).\n",
        "\n",
        "* Ha: The population proportion of American adults who work for the Private sector and have an annual income greater than $50k is greater than 0.25 (as suggested by the head of the US Department of Labor).\n",
        "\n",
        ">* H0: p <= 0.25\n",
        "* Ha: p > 0.25\n",
        "\n",
        ">Then, we can calculate the test statistic using the formula:\n",
        "* z = (p_hat - p0) / se\n",
        "\n",
        ">where **p0** = 0.25 is the hypothesized proportion under the null hypothesis.\n",
        "Finally, we can calculate the p-value and compare it to the significance level (let's say we choose a significance level of 0.05) to draw conclusions.\n",
        "\n",
        "\n"
      ],
      "metadata": {
        "id": "GMRrx1LBVpZg"
      }
    },
    {
      "cell_type": "code",
      "source": [
        "# set up hypotheses\n",
        "p0 = 0.25\n",
        "H0 = \"p <= 0.25\"\n",
        "Ha = \"p > 0.25\"\n",
        "\n",
        "# calculate test statistic\n",
        "z = (p_hat - p0) / se\n",
        "\n",
        "# calculate p-value\n",
        "p_value = 1 - st.norm.cdf(z)\n",
        "\n",
        "# compare p-value to significance level\n",
        "alpha = 0.05\n",
        "if p_value < alpha:\n",
        "    print(\"Reject the null hypothesis. There is sufficient evidence to support the claim that the proportion of American adults working for the Private sector and having income >50K is higher than 25%.\")\n",
        "else:\n",
        "    print(\"Fail to reject the null hypothesis. There is not sufficient evidence to support the claim that the proportion of American adults working for the Private sector and having income >50K is higher than 25%.\")\n"
      ],
      "metadata": {
        "colab": {
          "base_uri": "https://localhost:8080/"
        },
        "id": "Zt-lKeIZW2bI",
        "outputId": "89230e3f-3b01-4ee6-e4d5-dc78b6ec5698"
      },
      "execution_count": 9,
      "outputs": [
        {
          "output_type": "stream",
          "name": "stdout",
          "text": [
            "Fail to reject the null hypothesis. There is not sufficient evidence to support the claim that the proportion of American adults working for the Private sector and having income >50K is higher than 25%.\n"
          ]
        }
      ]
    },
    {
      "cell_type": "markdown",
      "source": [
        "# The US Department of Labor is also interested in studying the population proportion of American adults who work for the workclass = Private and have education = Bachelors in the 1990s."
      ],
      "metadata": {
        "id": "-S8d2xOTY8sJ"
      }
    },
    {
      "cell_type": "markdown",
      "source": [
        "### Denote Y as the variable for American adults who work for the workclass = Private and have education = Bachelors."
      ],
      "metadata": {
        "id": "UqaNqQsAZGzi"
      }
    },
    {
      "cell_type": "markdown",
      "source": [
        "> *Point estimation for population proportion of Y:*"
      ],
      "metadata": {
        "id": "hb1PjWRSZZIj"
      }
    },
    {
      "cell_type": "code",
      "source": [
        "p_hat = len(census_income_df[(census_income_df.workclass == 'Private') & (census_income_df.education == 'Bachelors')]) / len(census_income_df)\n",
        "print('Point estimation for population proportion of Y:', p_hat)"
      ],
      "metadata": {
        "colab": {
          "base_uri": "https://localhost:8080/"
        },
        "id": "afgTktSTZfQB",
        "outputId": "b797518c-d351-4f65-d18a-835d0cde2bf6"
      },
      "execution_count": 10,
      "outputs": [
        {
          "output_type": "stream",
          "name": "stdout",
          "text": [
            "Point estimation for population proportion of Y: 0.11454810688946357\n"
          ]
        }
      ]
    },
    {
      "cell_type": "markdown",
      "source": [
        "> *Confidence interval for population proportion of Y:*"
      ],
      "metadata": {
        "id": "3E0kK6bBZp3j"
      }
    },
    {
      "cell_type": "code",
      "source": [
        "z_star = 1.96 # 95% confidence level\n",
        "n = len(census_income_df)\n",
        "y_count = len(census_income_df[(census_income_df.workclass == 'Private') & (census_income_df.education == 'Bachelors')])\n",
        "p_hat = y_count / n\n",
        "se = np.sqrt(p_hat * (1 - p_hat) / n)\n",
        "lower = p_hat - z_star * se\n",
        "upper = p_hat + z_star * se\n",
        "print('Confidence interval for population proportion of Y: ({}, {})'.format(lower, upper))"
      ],
      "metadata": {
        "colab": {
          "base_uri": "https://localhost:8080/"
        },
        "id": "AXSM0jcrZuAm",
        "outputId": "0ced5999-fe92-4219-eb27-1b19e01c6339"
      },
      "execution_count": 11,
      "outputs": [
        {
          "output_type": "stream",
          "name": "stdout",
          "text": [
            "Confidence interval for population proportion of Y: (0.11095390517508498, 0.11814230860384216)\n"
          ]
        }
      ]
    },
    {
      "cell_type": "markdown",
      "source": [
        "### Hypothesis testing for population proportion of Y:\n",
        ">Null Hypothesis (H0): The population proportion of American adults who work for the workclass = Private and have education = Bachelors in the 1990s is equal to or less than 0.05.\n",
        "\n",
        ">Alternative Hypothesis (Ha): The population proportion of American adults who work for the workclass = Private and have education = Bachelors in the 1990s is greater than 0.05."
      ],
      "metadata": {
        "id": "9zEPQ-AVZ9VG"
      }
    },
    {
      "cell_type": "code",
      "source": [
        "# Calculate the test statistic and p-value\n",
        "z = (p_hat - 0.05) / se\n",
        "p_value = 1 - st.norm.cdf(z)\n",
        "\n",
        "# Print the results\n",
        "print('Test statistic:', z)\n",
        "print('p-value:', p_value)\n",
        "\n",
        "# Check if we can reject the null hypothesis at the 5% significance level\n",
        "alpha = 0.05\n",
        "if p_value < alpha:\n",
        "    print('We reject the null hypothesis.')\n",
        "else:\n",
        "    print('We fail to reject the null hypothesis.')"
      ],
      "metadata": {
        "colab": {
          "base_uri": "https://localhost:8080/"
        },
        "id": "s6xNefW8aJBu",
        "outputId": "13619788-2aea-4b6b-edaa-191569ce180b"
      },
      "execution_count": 12,
      "outputs": [
        {
          "output_type": "stream",
          "name": "stdout",
          "text": [
            "Test statistic: 35.19955182182142\n",
            "p-value: 0.0\n",
            "We reject the null hypothesis.\n"
          ]
        }
      ]
    },
    {
      "cell_type": "markdown",
      "source": [
        "####Based on the results of the hypothesis test, we reject the null hypothesis (H0: p = 0.05) and conclude that there is evidence to suggest that the true population proportion of American adults who work for the workclass = Private and have education = Bachelors in the 1990s is greater than 0.05, with a significance level of 0.05.\n",
        "\n",
        "####This means that the data provides evidence that the head of the US Department of Labor may be correct in believing that the percentage of American adults who work for the workclass = Private and have education = Bachelors in the 1990s is higher than 5%."
      ],
      "metadata": {
        "id": "c2LKa-ScaW3S"
      }
    }
  ]
}