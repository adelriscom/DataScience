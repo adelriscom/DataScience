{
  "nbformat": 4,
  "nbformat_minor": 0,
  "metadata": {
    "colab": {
      "provenance": [],
      "mount_file_id": "1THf187U53hv1l5cXoNH-rxJbTNkEvsCK",
      "authorship_tag": "ABX9TyP6Yf6flEJAAbazTB6xOYAz",
      "include_colab_link": true
    },
    "kernelspec": {
      "name": "python3",
      "display_name": "Python 3"
    },
    "language_info": {
      "name": "python"
    }
  },
  "cells": [
    {
      "cell_type": "markdown",
      "metadata": {
        "id": "view-in-github",
        "colab_type": "text"
      },
      "source": [
        "<a href=\"https://colab.research.google.com/github/adelriscom/DataScience/blob/main/futsal.ipynb\" target=\"_parent\"><img src=\"https://colab.research.google.com/assets/colab-badge.svg\" alt=\"Open In Colab\"/></a>"
      ]
    },
    {
      "cell_type": "code",
      "execution_count": 29,
      "metadata": {
        "id": "2tmGwJ-lvhlO"
      },
      "outputs": [],
      "source": [
        "import pandas as pd\n",
        "import re\n",
        "import numpy as np\n",
        "import matplotlib.pyplot as plt\n",
        "from matplotlib.patches import Arc\n",
        "import seaborn as sns"
      ]
    },
    {
      "cell_type": "code",
      "source": [
        "ft = pd.read_csv('/content/drive/MyDrive/DataScience_UWinnipeg/1era_división_España_Scoutear.csv')\n",
        "ft.head(5)\n"
      ],
      "metadata": {
        "colab": {
          "base_uri": "https://localhost:8080/",
          "height": 612
        },
        "id": "CrZR1_eBw0aU",
        "outputId": "c5341454-99f2-4b5c-d094-269d3f052600"
      },
      "execution_count": 19,
      "outputs": [
        {
          "output_type": "execute_result",
          "data": {
            "text/plain": [
              "              EQUIPOS               TORNEO           RUEDA FASE DEL TORNEO  \\\n",
              "0  Teldeportivo (TEL)  1era División 22/23  Primera vuelta         Fecha 1   \n",
              "1         Futsi (FSI)  1era División 22/23  Primera vuelta         Fecha 1   \n",
              "2  LBTL Futsal (LBTL)  1era División 22/23  Primera vuelta         Fecha 1   \n",
              "3      Móstoles (MOS)  1era División 22/23  Primera vuelta         Fecha 1   \n",
              "4       Ourense (OUR)  1era División 22/23  Primera vuelta         Fecha 1   \n",
              "\n",
              "  EQUIPO QUE CONVIERTE EQUIPO AL QUE LE CONVIERTEN INICIO JUGADA  \\\n",
              "0          Futsi (FSI)          Teldeportivo (TEL)           NaN   \n",
              "1   Teldeportivo (TEL)                 Futsi (FSI)           NaN   \n",
              "2          Futsi (FSI)          Teldeportivo (TEL)           NaN   \n",
              "3          Futsi (FSI)          Teldeportivo (TEL)           NaN   \n",
              "4          Futsi (FSI)          Teldeportivo (TEL)           NaN   \n",
              "\n",
              "  FINALIZACIÓN CON GOL DURACIÓN TOTAL DE LA JUGADA    SITUACIÓN DE JUEGO  ...  \\\n",
              "0                  NaN                         NaN  Atq. Posicional (AP)  ...   \n",
              "1                  NaN                         NaN  Atq. Posicional (AP)  ...   \n",
              "2                  NaN                         NaN                   ABP  ...   \n",
              "3                  NaN                         NaN   Rebote/Rechace (RE)  ...   \n",
              "4                  NaN                         NaN  Atq. Posicional (AP)  ...   \n",
              "\n",
              "  ZONA DEL PASE GOL ZONA DE FINALIZACIÓN LADO CANCHA - FINALIZACIÓN  \\\n",
              "0                Z3                   Z4                    Derecho   \n",
              "1                Z5                   Z2                    Derecho   \n",
              "2                Z4                   Z1                    Derecho   \n",
              "3                 -                   Z2                  Izquierdo   \n",
              "4                Z3                   Z2                  Izquierdo   \n",
              "\n",
              "  ZONA DEL ARCO SUBDIVISIÓN ARCO SUPERFICIE DE CONTACTO   \\\n",
              "0           NaN              NaN     Borde Interior (BI)   \n",
              "1           NaN              NaN     Borde Interior (BI)   \n",
              "2           NaN              NaN                   Tacón   \n",
              "3           NaN              NaN                  Cabeza   \n",
              "4           NaN              NaN     Borde Interior (BI)   \n",
              "\n",
              "                  TIPO DE GOLPE        PIE                   DEFINICIÓN  \\\n",
              "0  Primera intención - Un toque    Derecho                          NaN   \n",
              "1  Primera intención - Un toque    Derecho         Pared + Finalización   \n",
              "2  Primera intención - Un toque  Izquierdo  Tacón - Desajuste defensivo   \n",
              "3  Primera intención - Un toque          -              NO CONTABILIZAR   \n",
              "4  Primera intención - Un toque    Derecho                     2do Palo   \n",
              "\n",
              "  Unnamed: 23  \n",
              "0         NaN  \n",
              "1         NaN  \n",
              "2         NaN  \n",
              "3         NaN  \n",
              "4         NaN  \n",
              "\n",
              "[5 rows x 24 columns]"
            ],
            "text/html": [
              "\n",
              "  <div id=\"df-5e6db2f1-5a3b-489a-bf3a-e06ba45b54d4\">\n",
              "    <div class=\"colab-df-container\">\n",
              "      <div>\n",
              "<style scoped>\n",
              "    .dataframe tbody tr th:only-of-type {\n",
              "        vertical-align: middle;\n",
              "    }\n",
              "\n",
              "    .dataframe tbody tr th {\n",
              "        vertical-align: top;\n",
              "    }\n",
              "\n",
              "    .dataframe thead th {\n",
              "        text-align: right;\n",
              "    }\n",
              "</style>\n",
              "<table border=\"1\" class=\"dataframe\">\n",
              "  <thead>\n",
              "    <tr style=\"text-align: right;\">\n",
              "      <th></th>\n",
              "      <th>EQUIPOS</th>\n",
              "      <th>TORNEO</th>\n",
              "      <th>RUEDA</th>\n",
              "      <th>FASE DEL TORNEO</th>\n",
              "      <th>EQUIPO QUE CONVIERTE</th>\n",
              "      <th>EQUIPO AL QUE LE CONVIERTEN</th>\n",
              "      <th>INICIO JUGADA</th>\n",
              "      <th>FINALIZACIÓN CON GOL</th>\n",
              "      <th>DURACIÓN TOTAL DE LA JUGADA</th>\n",
              "      <th>SITUACIÓN DE JUEGO</th>\n",
              "      <th>...</th>\n",
              "      <th>ZONA DEL PASE GOL</th>\n",
              "      <th>ZONA DE FINALIZACIÓN</th>\n",
              "      <th>LADO CANCHA - FINALIZACIÓN</th>\n",
              "      <th>ZONA DEL ARCO</th>\n",
              "      <th>SUBDIVISIÓN ARCO</th>\n",
              "      <th>SUPERFICIE DE CONTACTO</th>\n",
              "      <th>TIPO DE GOLPE</th>\n",
              "      <th>PIE</th>\n",
              "      <th>DEFINICIÓN</th>\n",
              "      <th>Unnamed: 23</th>\n",
              "    </tr>\n",
              "  </thead>\n",
              "  <tbody>\n",
              "    <tr>\n",
              "      <th>0</th>\n",
              "      <td>Teldeportivo (TEL)</td>\n",
              "      <td>1era División 22/23</td>\n",
              "      <td>Primera vuelta</td>\n",
              "      <td>Fecha 1</td>\n",
              "      <td>Futsi (FSI)</td>\n",
              "      <td>Teldeportivo (TEL)</td>\n",
              "      <td>NaN</td>\n",
              "      <td>NaN</td>\n",
              "      <td>NaN</td>\n",
              "      <td>Atq. Posicional (AP)</td>\n",
              "      <td>...</td>\n",
              "      <td>Z3</td>\n",
              "      <td>Z4</td>\n",
              "      <td>Derecho</td>\n",
              "      <td>NaN</td>\n",
              "      <td>NaN</td>\n",
              "      <td>Borde Interior (BI)</td>\n",
              "      <td>Primera intención - Un toque</td>\n",
              "      <td>Derecho</td>\n",
              "      <td>NaN</td>\n",
              "      <td>NaN</td>\n",
              "    </tr>\n",
              "    <tr>\n",
              "      <th>1</th>\n",
              "      <td>Futsi (FSI)</td>\n",
              "      <td>1era División 22/23</td>\n",
              "      <td>Primera vuelta</td>\n",
              "      <td>Fecha 1</td>\n",
              "      <td>Teldeportivo (TEL)</td>\n",
              "      <td>Futsi (FSI)</td>\n",
              "      <td>NaN</td>\n",
              "      <td>NaN</td>\n",
              "      <td>NaN</td>\n",
              "      <td>Atq. Posicional (AP)</td>\n",
              "      <td>...</td>\n",
              "      <td>Z5</td>\n",
              "      <td>Z2</td>\n",
              "      <td>Derecho</td>\n",
              "      <td>NaN</td>\n",
              "      <td>NaN</td>\n",
              "      <td>Borde Interior (BI)</td>\n",
              "      <td>Primera intención - Un toque</td>\n",
              "      <td>Derecho</td>\n",
              "      <td>Pared + Finalización</td>\n",
              "      <td>NaN</td>\n",
              "    </tr>\n",
              "    <tr>\n",
              "      <th>2</th>\n",
              "      <td>LBTL Futsal (LBTL)</td>\n",
              "      <td>1era División 22/23</td>\n",
              "      <td>Primera vuelta</td>\n",
              "      <td>Fecha 1</td>\n",
              "      <td>Futsi (FSI)</td>\n",
              "      <td>Teldeportivo (TEL)</td>\n",
              "      <td>NaN</td>\n",
              "      <td>NaN</td>\n",
              "      <td>NaN</td>\n",
              "      <td>ABP</td>\n",
              "      <td>...</td>\n",
              "      <td>Z4</td>\n",
              "      <td>Z1</td>\n",
              "      <td>Derecho</td>\n",
              "      <td>NaN</td>\n",
              "      <td>NaN</td>\n",
              "      <td>Tacón</td>\n",
              "      <td>Primera intención - Un toque</td>\n",
              "      <td>Izquierdo</td>\n",
              "      <td>Tacón - Desajuste defensivo</td>\n",
              "      <td>NaN</td>\n",
              "    </tr>\n",
              "    <tr>\n",
              "      <th>3</th>\n",
              "      <td>Móstoles (MOS)</td>\n",
              "      <td>1era División 22/23</td>\n",
              "      <td>Primera vuelta</td>\n",
              "      <td>Fecha 1</td>\n",
              "      <td>Futsi (FSI)</td>\n",
              "      <td>Teldeportivo (TEL)</td>\n",
              "      <td>NaN</td>\n",
              "      <td>NaN</td>\n",
              "      <td>NaN</td>\n",
              "      <td>Rebote/Rechace (RE)</td>\n",
              "      <td>...</td>\n",
              "      <td>-</td>\n",
              "      <td>Z2</td>\n",
              "      <td>Izquierdo</td>\n",
              "      <td>NaN</td>\n",
              "      <td>NaN</td>\n",
              "      <td>Cabeza</td>\n",
              "      <td>Primera intención - Un toque</td>\n",
              "      <td>-</td>\n",
              "      <td>NO CONTABILIZAR</td>\n",
              "      <td>NaN</td>\n",
              "    </tr>\n",
              "    <tr>\n",
              "      <th>4</th>\n",
              "      <td>Ourense (OUR)</td>\n",
              "      <td>1era División 22/23</td>\n",
              "      <td>Primera vuelta</td>\n",
              "      <td>Fecha 1</td>\n",
              "      <td>Futsi (FSI)</td>\n",
              "      <td>Teldeportivo (TEL)</td>\n",
              "      <td>NaN</td>\n",
              "      <td>NaN</td>\n",
              "      <td>NaN</td>\n",
              "      <td>Atq. Posicional (AP)</td>\n",
              "      <td>...</td>\n",
              "      <td>Z3</td>\n",
              "      <td>Z2</td>\n",
              "      <td>Izquierdo</td>\n",
              "      <td>NaN</td>\n",
              "      <td>NaN</td>\n",
              "      <td>Borde Interior (BI)</td>\n",
              "      <td>Primera intención - Un toque</td>\n",
              "      <td>Derecho</td>\n",
              "      <td>2do Palo</td>\n",
              "      <td>NaN</td>\n",
              "    </tr>\n",
              "  </tbody>\n",
              "</table>\n",
              "<p>5 rows × 24 columns</p>\n",
              "</div>\n",
              "      <button class=\"colab-df-convert\" onclick=\"convertToInteractive('df-5e6db2f1-5a3b-489a-bf3a-e06ba45b54d4')\"\n",
              "              title=\"Convert this dataframe to an interactive table.\"\n",
              "              style=\"display:none;\">\n",
              "        \n",
              "  <svg xmlns=\"http://www.w3.org/2000/svg\" height=\"24px\"viewBox=\"0 0 24 24\"\n",
              "       width=\"24px\">\n",
              "    <path d=\"M0 0h24v24H0V0z\" fill=\"none\"/>\n",
              "    <path d=\"M18.56 5.44l.94 2.06.94-2.06 2.06-.94-2.06-.94-.94-2.06-.94 2.06-2.06.94zm-11 1L8.5 8.5l.94-2.06 2.06-.94-2.06-.94L8.5 2.5l-.94 2.06-2.06.94zm10 10l.94 2.06.94-2.06 2.06-.94-2.06-.94-.94-2.06-.94 2.06-2.06.94z\"/><path d=\"M17.41 7.96l-1.37-1.37c-.4-.4-.92-.59-1.43-.59-.52 0-1.04.2-1.43.59L10.3 9.45l-7.72 7.72c-.78.78-.78 2.05 0 2.83L4 21.41c.39.39.9.59 1.41.59.51 0 1.02-.2 1.41-.59l7.78-7.78 2.81-2.81c.8-.78.8-2.07 0-2.86zM5.41 20L4 18.59l7.72-7.72 1.47 1.35L5.41 20z\"/>\n",
              "  </svg>\n",
              "      </button>\n",
              "      \n",
              "  <style>\n",
              "    .colab-df-container {\n",
              "      display:flex;\n",
              "      flex-wrap:wrap;\n",
              "      gap: 12px;\n",
              "    }\n",
              "\n",
              "    .colab-df-convert {\n",
              "      background-color: #E8F0FE;\n",
              "      border: none;\n",
              "      border-radius: 50%;\n",
              "      cursor: pointer;\n",
              "      display: none;\n",
              "      fill: #1967D2;\n",
              "      height: 32px;\n",
              "      padding: 0 0 0 0;\n",
              "      width: 32px;\n",
              "    }\n",
              "\n",
              "    .colab-df-convert:hover {\n",
              "      background-color: #E2EBFA;\n",
              "      box-shadow: 0px 1px 2px rgba(60, 64, 67, 0.3), 0px 1px 3px 1px rgba(60, 64, 67, 0.15);\n",
              "      fill: #174EA6;\n",
              "    }\n",
              "\n",
              "    [theme=dark] .colab-df-convert {\n",
              "      background-color: #3B4455;\n",
              "      fill: #D2E3FC;\n",
              "    }\n",
              "\n",
              "    [theme=dark] .colab-df-convert:hover {\n",
              "      background-color: #434B5C;\n",
              "      box-shadow: 0px 1px 3px 1px rgba(0, 0, 0, 0.15);\n",
              "      filter: drop-shadow(0px 1px 2px rgba(0, 0, 0, 0.3));\n",
              "      fill: #FFFFFF;\n",
              "    }\n",
              "  </style>\n",
              "\n",
              "      <script>\n",
              "        const buttonEl =\n",
              "          document.querySelector('#df-5e6db2f1-5a3b-489a-bf3a-e06ba45b54d4 button.colab-df-convert');\n",
              "        buttonEl.style.display =\n",
              "          google.colab.kernel.accessAllowed ? 'block' : 'none';\n",
              "\n",
              "        async function convertToInteractive(key) {\n",
              "          const element = document.querySelector('#df-5e6db2f1-5a3b-489a-bf3a-e06ba45b54d4');\n",
              "          const dataTable =\n",
              "            await google.colab.kernel.invokeFunction('convertToInteractive',\n",
              "                                                     [key], {});\n",
              "          if (!dataTable) return;\n",
              "\n",
              "          const docLinkHtml = 'Like what you see? Visit the ' +\n",
              "            '<a target=\"_blank\" href=https://colab.research.google.com/notebooks/data_table.ipynb>data table notebook</a>'\n",
              "            + ' to learn more about interactive tables.';\n",
              "          element.innerHTML = '';\n",
              "          dataTable['output_type'] = 'display_data';\n",
              "          await google.colab.output.renderOutput(dataTable, element);\n",
              "          const docLink = document.createElement('div');\n",
              "          docLink.innerHTML = docLinkHtml;\n",
              "          element.appendChild(docLink);\n",
              "        }\n",
              "      </script>\n",
              "    </div>\n",
              "  </div>\n",
              "  "
            ]
          },
          "metadata": {},
          "execution_count": 19
        }
      ]
    },
    {
      "cell_type": "code",
      "source": [
        "ft.info()"
      ],
      "metadata": {
        "colab": {
          "base_uri": "https://localhost:8080/",
          "height": 0
        },
        "id": "CSYvTGSn09eL",
        "outputId": "1dfa8f57-8648-433f-9c34-15e50238f9b7"
      },
      "execution_count": 20,
      "outputs": [
        {
          "output_type": "stream",
          "name": "stdout",
          "text": [
            "<class 'pandas.core.frame.DataFrame'>\n",
            "RangeIndex: 718 entries, 0 to 717\n",
            "Data columns (total 24 columns):\n",
            " #   Column                                Non-Null Count  Dtype \n",
            "---  ------                                --------------  ----- \n",
            " 0   EQUIPOS                               16 non-null     object\n",
            " 1   TORNEO                                718 non-null    object\n",
            " 2   RUEDA                                 718 non-null    object\n",
            " 3   FASE DEL TORNEO                       718 non-null    object\n",
            " 4   EQUIPO QUE CONVIERTE                  718 non-null    object\n",
            " 5   EQUIPO AL QUE LE CONVIERTEN           718 non-null    object\n",
            " 6   INICIO JUGADA                         352 non-null    object\n",
            " 7   FINALIZACIÓN CON GOL                  351 non-null    object\n",
            " 8   DURACIÓN TOTAL DE LA JUGADA           392 non-null    object\n",
            " 9   SITUACIÓN DE JUEGO                    718 non-null    object\n",
            " 10  ETIQUETA/LEYENDA                      718 non-null    object\n",
            " 11  TIEMPO DE JUEGO                       718 non-null    object\n",
            " 12  PASES REALIZADOS EN LA JUGADA DE GOL  718 non-null    object\n",
            " 13  JUG. QUE INTERVIENEN EN LA ACCIÓN     718 non-null    object\n",
            " 14  ZONA DEL PASE GOL                     718 non-null    object\n",
            " 15  ZONA DE FINALIZACIÓN                  718 non-null    object\n",
            " 16  LADO CANCHA - FINALIZACIÓN            718 non-null    object\n",
            " 17  ZONA DEL ARCO                         3 non-null      object\n",
            " 18  SUBDIVISIÓN ARCO                      3 non-null      object\n",
            " 19  SUPERFICIE DE CONTACTO                718 non-null    object\n",
            " 20  TIPO DE GOLPE                         718 non-null    object\n",
            " 21  PIE                                   718 non-null    object\n",
            " 22  DEFINICIÓN                            451 non-null    object\n",
            " 23  Unnamed: 23                           33 non-null     object\n",
            "dtypes: object(24)\n",
            "memory usage: 134.8+ KB\n"
          ]
        }
      ]
    },
    {
      "cell_type": "code",
      "source": [
        "ft.shape"
      ],
      "metadata": {
        "colab": {
          "base_uri": "https://localhost:8080/",
          "height": 0
        },
        "id": "SZxOKuzv1pIR",
        "outputId": "b78e62ab-809b-4828-d719-dac12c28cc8f"
      },
      "execution_count": 24,
      "outputs": [
        {
          "output_type": "execute_result",
          "data": {
            "text/plain": [
              "(718, 24)"
            ]
          },
          "metadata": {},
          "execution_count": 24
        }
      ]
    },
    {
      "cell_type": "code",
      "source": [
        "def check_variables(df: pd.DataFrame):\n",
        "  cols = df.columns\n",
        "  quantitative_cols = df._get_numeric_data().columns\n",
        "  categorical_cols = list(set(cols) - set(quantitative_cols))\n",
        "  return categorical_cols, list(set(quantitative_cols))\n",
        "\n",
        "cat_cols, quan_cols = check_variables(ft)\n",
        "print(f'categorical columns: {cat_cols}')\n",
        "print(f'quantitative columns: {quan_cols}')"
      ],
      "metadata": {
        "colab": {
          "base_uri": "https://localhost:8080/",
          "height": 0
        },
        "id": "sSAqPfHl3P8i",
        "outputId": "b88d9834-24fd-4ae4-d47a-1994a1f66333"
      },
      "execution_count": 25,
      "outputs": [
        {
          "output_type": "stream",
          "name": "stdout",
          "text": [
            "categorical columns: ['FINALIZACIÓN CON GOL', 'JUG. QUE INTERVIENEN EN LA ACCIÓN', 'SUBDIVISIÓN ARCO', 'PASES REALIZADOS EN LA JUGADA DE GOL', 'ETIQUETA/LEYENDA', 'TORNEO', 'FASE DEL TORNEO', 'EQUIPOS', 'ZONA DEL PASE GOL', 'ZONA DE FINALIZACIÓN', 'RUEDA', 'Unnamed: 23', 'PIE', 'EQUIPO AL QUE LE CONVIERTEN', 'TIPO DE GOLPE', 'ZONA DEL ARCO', 'EQUIPO QUE CONVIERTE', 'LADO CANCHA - FINALIZACIÓN', 'DURACIÓN TOTAL DE LA JUGADA', 'TIEMPO DE JUEGO', 'SITUACIÓN DE JUEGO', 'SUPERFICIE DE CONTACTO ', 'DEFINICIÓN', 'INICIO JUGADA']\n",
            "quantitative columns: []\n"
          ]
        }
      ]
    },
    {
      "cell_type": "code",
      "source": [
        "ft['FINALIZACIÓN CON GOL'].describe()"
      ],
      "metadata": {
        "colab": {
          "base_uri": "https://localhost:8080/",
          "height": 0
        },
        "id": "-Pkudv2E3v49",
        "outputId": "74247202-59a5-429d-b9f2-7e61c2f6293f"
      },
      "execution_count": 26,
      "outputs": [
        {
          "output_type": "execute_result",
          "data": {
            "text/plain": [
              "count                         351\n",
              "unique                        253\n",
              "top       no se pudo contabilizar\n",
              "freq                           32\n",
              "Name: FINALIZACIÓN CON GOL, dtype: object"
            ]
          },
          "metadata": {},
          "execution_count": 26
        }
      ]
    },
    {
      "cell_type": "markdown",
      "source": [
        "# Mostrar Cancha\n"
      ],
      "metadata": {
        "id": "xrIv2M1U4qXK"
      }
    },
    {
      "cell_type": "code",
      "source": [
        "def createPitch():\n",
        "    # Create a figure and axes\n",
        "    fig, ax = plt.subplots(figsize=(7, 5)) \n",
        "    \n",
        "    \n",
        "    # Set background color with alpha transparency\n",
        "    ax.set_facecolor('C1')\n",
        "    ax.patch.set_alpha(0.1)\n",
        "    \n",
        "    # Set axis limits and invert y-axis\n",
        "    ax.set_xlim(0, 130)\n",
        "    ax.set_ylim(0, 90)\n",
        "    ax.invert_yaxis()\n",
        "    \n",
        "    # Prepare pitch boundaries\n",
        "    plt.plot([5, 125, 125, 5, 5], [10, 10, 80, 80, 10], color='Red')\n",
        "    plt.plot([65,65],[10,80], color=\"magenta\")\n",
        "\n",
        "    \n",
        "    \n",
        "    # Prepare center circle\n",
        "    center_circle = plt.Circle((65, 45), 9, color='black', fill=False)\n",
        "    ax.add_patch(center_circle)\n",
        "    \n",
        "    # Prepare penalty areas\n",
        "    left_penalty = plt.Rectangle((5, 27), width=15, height=35, fill=False, color='indigo')\n",
        "    right_penalty = plt.Rectangle((110, 27), width=15, height=35, fill=False, color='black')\n",
        "    ax.add_patch(left_penalty)\n",
        "    ax.add_patch(right_penalty)\n",
        "\n",
        "    #prepare seats\n",
        "    left_seat = plt.Rectangle((25, 0), width=20, height=6, fill=False, color='black')\n",
        "    right_seat = plt.Rectangle((85, 0), width=20, height=6, fill=False, color='black')\n",
        "    ax.add_patch(left_seat)\n",
        "    ax.add_patch(right_seat)\n",
        "\n",
        "    # Prepare goal areas\n",
        "    left_goal = plt.Rectangle((5, 35), width=6, height=20, fill=False, color='brown')\n",
        "    right_goal = plt.Rectangle((119, 35), width=6, height=20, fill=False, color='black')\n",
        "    ax.add_patch(left_goal)\n",
        "    ax.add_patch(right_goal)\n",
        "    \n",
        "    # Prepare goal posts\n",
        "    left_post = plt.Rectangle((-1, 36), width=1, height=18, fill=False, color='black')\n",
        "    right_post = plt.Rectangle((130, 36), width=1, height=18, fill=False, color='black')\n",
        "    ax.add_patch(left_post)\n",
        "    ax.add_patch(right_post)\n",
        "    \n",
        "    # Prepare Arcs\n",
        "    leftArc = Arc((15, 45), height=16.3, width=16.3, angle=0, theta1=310, theta2=50, color=\"black\")\n",
        "    rightArc = Arc((115, 45), height=16.3, width=16.3, angle=0, theta1=130, theta2=230, color=\"black\")\n",
        "    ax.add_patch(leftArc)\n",
        "    ax.add_patch(rightArc)\n",
        "\n",
        "    #Prepare Circles\n",
        "    centreSpot = plt.Circle((65,45),0.8,color=\"black\")\n",
        "    leftPenSpot = plt.Circle((15,45),0.8,color=\"black\")\n",
        "    rightPenSpot = plt.Circle((115,45),0.8,color=\"black\")\n",
        "    #Draw Circles\n",
        "    ax.add_patch(centreSpot)\n",
        "    ax.add_patch(leftPenSpot)\n",
        "    ax.add_patch(rightPenSpot)\n",
        "    \n",
        "    # Show the pitch\n",
        "    plt.show()\n",
        "\n",
        "createPitch()\n"
      ],
      "metadata": {
        "colab": {
          "base_uri": "https://localhost:8080/",
          "height": 451
        },
        "id": "3R--TYex6esi",
        "outputId": "ea502057-839a-4c98-f425-0a3dc18b085b"
      },
      "execution_count": 156,
      "outputs": [
        {
          "output_type": "display_data",
          "data": {
            "text/plain": [
              "<Figure size 700x500 with 1 Axes>"
            ],
            "image/png": "[encoded data removed]"
          },
          "metadata": {}
        }
      ]
    }
  ]
}