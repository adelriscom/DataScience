{
  "nbformat": 4,
  "nbformat_minor": 0,
  "metadata": {
    "colab": {
      "provenance": [],
      "mount_file_id": "17gyd4c3dZbvN0NM2jxqENrELia786lYs",
      "authorship_tag": "ABX9TyNJOadoPtA+36WCHOL3VRj/",
      "include_colab_link": true
    },
    "kernelspec": {
      "name": "python3",
      "display_name": "Python 3"
    },
    "language_info": {
      "name": "python"
    }
  },
  "cells": [
    {
      "cell_type": "markdown",
      "metadata": {
        "id": "view-in-github",
        "colab_type": "text"
      },
      "source": [
        "<a href=\"https://colab.research.google.com/github/adelriscom/DataScience/blob/main/Lab2_Alexander_Del_Risco.ipynb\" target=\"_parent\"><img src=\"https://colab.research.google.com/assets/colab-badge.svg\" alt=\"Open In Colab\"/></a>"
      ]
    },
    {
      "cell_type": "code",
      "execution_count": null,
      "metadata": {
        "id": "UIFJToDE9NCL"
      },
      "outputs": [],
      "source": []
    },
    {
      "cell_type": "markdown",
      "source": [
        "# Lab 2: Exploratory Data Analysis - Examining Distributions"
      ],
      "metadata": {
        "id": "BOGb9TI69OJu"
      }
    },
    {
      "cell_type": "markdown",
      "source": [
        "># 1) For general usages"
      ],
      "metadata": {
        "id": "dM-CCxFaImH1"
      }
    },
    {
      "cell_type": "markdown",
      "source": [
        ">+ Import packages"
      ],
      "metadata": {
        "id": "XbZdzhZb9voK"
      }
    },
    {
      "cell_type": "code",
      "source": [
        "import numpy as np\n",
        "import pandas as pd\n",
        "import seaborn as sns\n",
        "import matplotlib.pyplot as plt\n",
        "from IPython.display import display"
      ],
      "metadata": {
        "id": "ahsMF2Nk9f1f"
      },
      "execution_count": 1,
      "outputs": []
    },
    {
      "cell_type": "markdown",
      "source": [
        ">+ Import a dataset from a csv file using pandas"
      ],
      "metadata": {
        "id": "gz4WLV7wGTh3"
      }
    },
    {
      "cell_type": "code",
      "source": [
        "dataset_frame = pd.read_csv('/content/drive/MyDrive/DataScience_UWinnipeg/insurance.csv')"
      ],
      "metadata": {
        "id": "OluJPtHbGVPj"
      },
      "execution_count": 2,
      "outputs": []
    },
    {
      "cell_type": "markdown",
      "source": [
        ">+ shape and display dataset sample rows"
      ],
      "metadata": {
        "id": "ZJL1u3eCGwM2"
      }
    },
    {
      "cell_type": "code",
      "source": [
        "print(dataset_frame.shape)\n",
        "display(dataset_frame.head(n=10))"
      ],
      "metadata": {
        "colab": {
          "base_uri": "https://localhost:8080/",
          "height": 381
        },
        "id": "uYvPf_n9Glb-",
        "outputId": "871664b8-c5d5-4fc8-e456-dd6faec03135"
      },
      "execution_count": 4,
      "outputs": [
        {
          "output_type": "stream",
          "name": "stdout",
          "text": [
            "(1338, 7)\n"
          ]
        },
        {
          "output_type": "display_data",
          "data": {
            "text/plain": [
              "   age     sex     bmi  children smoker     region      charges\n",
              "0   19  female  27.900         0    yes  southwest  16884.92400\n",
              "1   18    male  33.770         1     no  southeast   1725.55230\n",
              "2   28    male  33.000         3     no  southeast   4449.46200\n",
              "3   33    male  22.705         0     no  northwest  21984.47061\n",
              "4   32    male  28.880         0     no  northwest   3866.85520\n",
              "5   31  female  25.740         0     no  southeast   3756.62160\n",
              "6   46  female  33.440         1     no  southeast   8240.58960\n",
              "7   37  female  27.740         3     no  northwest   7281.50560\n",
              "8   37    male  29.830         2     no  northeast   6406.41070\n",
              "9   60  female  25.840         0     no  northwest  28923.13692"
            ],
            "text/html": [
              "\n",
              "  <div id=\"df-1f90e805-4498-4ec1-860e-cea5b962c644\">\n",
              "    <div class=\"colab-df-container\">\n",
              "      <div>\n",
              "<style scoped>\n",
              "    .dataframe tbody tr th:only-of-type {\n",
              "        vertical-align: middle;\n",
              "    }\n",
              "\n",
              "    .dataframe tbody tr th {\n",
              "        vertical-align: top;\n",
              "    }\n",
              "\n",
              "    .dataframe thead th {\n",
              "        text-align: right;\n",
              "    }\n",
              "</style>\n",
              "<table border=\"1\" class=\"dataframe\">\n",
              "  <thead>\n",
              "    <tr style=\"text-align: right;\">\n",
              "      <th></th>\n",
              "      <th>age</th>\n",
              "      <th>sex</th>\n",
              "      <th>bmi</th>\n",
              "      <th>children</th>\n",
              "      <th>smoker</th>\n",
              "      <th>region</th>\n",
              "      <th>charges</th>\n",
              "    </tr>\n",
              "  </thead>\n",
              "  <tbody>\n",
              "    <tr>\n",
              "      <th>0</th>\n",
              "      <td>19</td>\n",
              "      <td>female</td>\n",
              "      <td>27.900</td>\n",
              "      <td>0</td>\n",
              "      <td>yes</td>\n",
              "      <td>southwest</td>\n",
              "      <td>16884.92400</td>\n",
              "    </tr>\n",
              "    <tr>\n",
              "      <th>1</th>\n",
              "      <td>18</td>\n",
              "      <td>male</td>\n",
              "      <td>33.770</td>\n",
              "      <td>1</td>\n",
              "      <td>no</td>\n",
              "      <td>southeast</td>\n",
              "      <td>1725.55230</td>\n",
              "    </tr>\n",
              "    <tr>\n",
              "      <th>2</th>\n",
              "      <td>28</td>\n",
              "      <td>male</td>\n",
              "      <td>33.000</td>\n",
              "      <td>3</td>\n",
              "      <td>no</td>\n",
              "      <td>southeast</td>\n",
              "      <td>4449.46200</td>\n",
              "    </tr>\n",
              "    <tr>\n",
              "      <th>3</th>\n",
              "      <td>33</td>\n",
              "      <td>male</td>\n",
              "      <td>22.705</td>\n",
              "      <td>0</td>\n",
              "      <td>no</td>\n",
              "      <td>northwest</td>\n",
              "      <td>21984.47061</td>\n",
              "    </tr>\n",
              "    <tr>\n",
              "      <th>4</th>\n",
              "      <td>32</td>\n",
              "      <td>male</td>\n",
              "      <td>28.880</td>\n",
              "      <td>0</td>\n",
              "      <td>no</td>\n",
              "      <td>northwest</td>\n",
              "      <td>3866.85520</td>\n",
              "    </tr>\n",
              "    <tr>\n",
              "      <th>5</th>\n",
              "      <td>31</td>\n",
              "      <td>female</td>\n",
              "      <td>25.740</td>\n",
              "      <td>0</td>\n",
              "      <td>no</td>\n",
              "      <td>southeast</td>\n",
              "      <td>3756.62160</td>\n",
              "    </tr>\n",
              "    <tr>\n",
              "      <th>6</th>\n",
              "      <td>46</td>\n",
              "      <td>female</td>\n",
              "      <td>33.440</td>\n",
              "      <td>1</td>\n",
              "      <td>no</td>\n",
              "      <td>southeast</td>\n",
              "      <td>8240.58960</td>\n",
              "    </tr>\n",
              "    <tr>\n",
              "      <th>7</th>\n",
              "      <td>37</td>\n",
              "      <td>female</td>\n",
              "      <td>27.740</td>\n",
              "      <td>3</td>\n",
              "      <td>no</td>\n",
              "      <td>northwest</td>\n",
              "      <td>7281.50560</td>\n",
              "    </tr>\n",
              "    <tr>\n",
              "      <th>8</th>\n",
              "      <td>37</td>\n",
              "      <td>male</td>\n",
              "      <td>29.830</td>\n",
              "      <td>2</td>\n",
              "      <td>no</td>\n",
              "      <td>northeast</td>\n",
              "      <td>6406.41070</td>\n",
              "    </tr>\n",
              "    <tr>\n",
              "      <th>9</th>\n",
              "      <td>60</td>\n",
              "      <td>female</td>\n",
              "      <td>25.840</td>\n",
              "      <td>0</td>\n",
              "      <td>no</td>\n",
              "      <td>northwest</td>\n",
              "      <td>28923.13692</td>\n",
              "    </tr>\n",
              "  </tbody>\n",
              "</table>\n",
              "</div>\n",
              "      <button class=\"colab-df-convert\" onclick=\"convertToInteractive('df-1f90e805-4498-4ec1-860e-cea5b962c644')\"\n",
              "              title=\"Convert this dataframe to an interactive table.\"\n",
              "              style=\"display:none;\">\n",
              "        \n",
              "  <svg xmlns=\"http://www.w3.org/2000/svg\" height=\"24px\"viewBox=\"0 0 24 24\"\n",
              "       width=\"24px\">\n",
              "    <path d=\"M0 0h24v24H0V0z\" fill=\"none\"/>\n",
              "    <path d=\"M18.56 5.44l.94 2.06.94-2.06 2.06-.94-2.06-.94-.94-2.06-.94 2.06-2.06.94zm-11 1L8.5 8.5l.94-2.06 2.06-.94-2.06-.94L8.5 2.5l-.94 2.06-2.06.94zm10 10l.94 2.06.94-2.06 2.06-.94-2.06-.94-.94-2.06-.94 2.06-2.06.94z\"/><path d=\"M17.41 7.96l-1.37-1.37c-.4-.4-.92-.59-1.43-.59-.52 0-1.04.2-1.43.59L10.3 9.45l-7.72 7.72c-.78.78-.78 2.05 0 2.83L4 21.41c.39.39.9.59 1.41.59.51 0 1.02-.2 1.41-.59l7.78-7.78 2.81-2.81c.8-.78.8-2.07 0-2.86zM5.41 20L4 18.59l7.72-7.72 1.47 1.35L5.41 20z\"/>\n",
              "  </svg>\n",
              "      </button>\n",
              "      \n",
              "  <style>\n",
              "    .colab-df-container {\n",
              "      display:flex;\n",
              "      flex-wrap:wrap;\n",
              "      gap: 12px;\n",
              "    }\n",
              "\n",
              "    .colab-df-convert {\n",
              "      background-color: #E8F0FE;\n",
              "      border: none;\n",
              "      border-radius: 50%;\n",
              "      cursor: pointer;\n",
              "      display: none;\n",
              "      fill: #1967D2;\n",
              "      height: 32px;\n",
              "      padding: 0 0 0 0;\n",
              "      width: 32px;\n",
              "    }\n",
              "\n",
              "    .colab-df-convert:hover {\n",
              "      background-color: #E2EBFA;\n",
              "      box-shadow: 0px 1px 2px rgba(60, 64, 67, 0.3), 0px 1px 3px 1px rgba(60, 64, 67, 0.15);\n",
              "      fill: #174EA6;\n",
              "    }\n",
              "\n",
              "    [theme=dark] .colab-df-convert {\n",
              "      background-color: #3B4455;\n",
              "      fill: #D2E3FC;\n",
              "    }\n",
              "\n",
              "    [theme=dark] .colab-df-convert:hover {\n",
              "      background-color: #434B5C;\n",
              "      box-shadow: 0px 1px 3px 1px rgba(0, 0, 0, 0.15);\n",
              "      filter: drop-shadow(0px 1px 2px rgba(0, 0, 0, 0.3));\n",
              "      fill: #FFFFFF;\n",
              "    }\n",
              "  </style>\n",
              "\n",
              "      <script>\n",
              "        const buttonEl =\n",
              "          document.querySelector('#df-1f90e805-4498-4ec1-860e-cea5b962c644 button.colab-df-convert');\n",
              "        buttonEl.style.display =\n",
              "          google.colab.kernel.accessAllowed ? 'block' : 'none';\n",
              "\n",
              "        async function convertToInteractive(key) {\n",
              "          const element = document.querySelector('#df-1f90e805-4498-4ec1-860e-cea5b962c644');\n",
              "          const dataTable =\n",
              "            await google.colab.kernel.invokeFunction('convertToInteractive',\n",
              "                                                     [key], {});\n",
              "          if (!dataTable) return;\n",
              "\n",
              "          const docLinkHtml = 'Like what you see? Visit the ' +\n",
              "            '<a target=\"_blank\" href=https://colab.research.google.com/notebooks/data_table.ipynb>data table notebook</a>'\n",
              "            + ' to learn more about interactive tables.';\n",
              "          element.innerHTML = '';\n",
              "          dataTable['output_type'] = 'display_data';\n",
              "          await google.colab.output.renderOutput(dataTable, element);\n",
              "          const docLink = document.createElement('div');\n",
              "          docLink.innerHTML = docLinkHtml;\n",
              "          element.appendChild(docLink);\n",
              "        }\n",
              "      </script>\n",
              "    </div>\n",
              "  </div>\n",
              "  "
            ]
          },
          "metadata": {}
        }
      ]
    },
    {
      "cell_type": "markdown",
      "source": [
        "According to the query result, the dataset has 1338 rows and 7 columns."
      ],
      "metadata": {
        "id": "_6NUje1lc60F"
      }
    },
    {
      "cell_type": "markdown",
      "source": [
        ">+ classify columns into categorical and quantitative variables"
      ],
      "metadata": {
        "id": "QdTtvlDXHLGV"
      }
    },
    {
      "cell_type": "code",
      "source": [
        "def check_variables(df: pd.DataFrame):\n",
        "  cols = df.columns\n",
        "  quantitative_cols = df._get_numeric_data().columns\n",
        "  categorical_cols = list(set(cols) - set(quantitative_cols))\n",
        "  return categorical_cols, list(set(quantitative_cols))\n",
        "\n",
        "cat_cols, quan_cols = check_variables(dataset_frame)\n",
        "print(f'categorical columns: {cat_cols}')\n",
        "print(f'quantitative columns: {quan_cols}')"
      ],
      "metadata": {
        "colab": {
          "base_uri": "https://localhost:8080/"
        },
        "id": "IapNTHP6HOYP",
        "outputId": "1126feaf-e7e8-46d9-95c9-2fd04cdcc756"
      },
      "execution_count": 8,
      "outputs": [
        {
          "output_type": "stream",
          "name": "stdout",
          "text": [
            "categorical columns: ['region', 'smoker', 'sex']\n",
            "quantitative columns: ['age', 'bmi', 'charges', 'children']\n"
          ]
        }
      ]
    },
    {
      "cell_type": "markdown",
      "source": [
        "Dataset has **three** categorical columns and **four** quantitative columns"
      ],
      "metadata": {
        "id": "ncXpFFMHdU51"
      }
    },
    {
      "cell_type": "markdown",
      "source": [
        "># 2) For categorical variables"
      ],
      "metadata": {
        "id": "ahX_drn2Iedi"
      }
    },
    {
      "cell_type": "markdown",
      "source": [
        ">- describe a categorical variable (‘sex’) from data frame"
      ],
      "metadata": {
        "id": "MhGw0RR0Ix5A"
      }
    },
    {
      "cell_type": "code",
      "source": [
        "dataset_frame['sex'].describe()"
      ],
      "metadata": {
        "colab": {
          "base_uri": "https://localhost:8080/"
        },
        "id": "aGUx_C4jI9cz",
        "outputId": "1623a952-b0ac-4ecc-9e1e-ddbe8d18e79c"
      },
      "execution_count": 9,
      "outputs": [
        {
          "output_type": "execute_result",
          "data": {
            "text/plain": [
              "count     1338\n",
              "unique       2\n",
              "top       male\n",
              "freq       676\n",
              "Name: sex, dtype: object"
            ]
          },
          "metadata": {},
          "execution_count": 9
        }
      ]
    },
    {
      "cell_type": "markdown",
      "source": [
        "This output suggests that the \"sex\" column in the \"dataset_frame\" dataframe has 1338 rows (or records) in total. It also shows that there are only two unique values in this column, which are \"male\" and another value that is female. Furthermore, the most frequently occurring value in this column is \"male\" with a frequency of 676. This output provides some basic statistical information about the \"sex\" column in the dataframe."
      ],
      "metadata": {
        "id": "jqAlh-kWeLP6"
      }
    },
    {
      "cell_type": "markdown",
      "source": [
        ">- count values for frequency distribution of a categorical variable (‘sex’)"
      ],
      "metadata": {
        "id": "OqlSCkM_JQOX"
      }
    },
    {
      "cell_type": "code",
      "source": [
        "dataset_frame['sex'].value_counts()"
      ],
      "metadata": {
        "colab": {
          "base_uri": "https://localhost:8080/"
        },
        "id": "PyxJTHkaJPfF",
        "outputId": "46642b42-e7e8-43da-805c-f206b33a83d2"
      },
      "execution_count": 10,
      "outputs": [
        {
          "output_type": "execute_result",
          "data": {
            "text/plain": [
              "male      676\n",
              "female    662\n",
              "Name: sex, dtype: int64"
            ]
          },
          "metadata": {},
          "execution_count": 10
        }
      ]
    },
    {
      "cell_type": "markdown",
      "source": [
        "This output shows the count of each unique value in the 'sex' column of a dataset. There are two unique values: 'male' and 'female'. The value 'male' appears 676 times and 'female' appears 662 times. The output also specifies that the data type of the 'sex' column is integer (dtype: int64). However, since 'sex' is a categorical variable with only two categories, it would be more appropriate to represent it as an object or categorical data type."
      ],
      "metadata": {
        "id": "dmQPPz_2eopN"
      }
    },
    {
      "cell_type": "markdown",
      "source": [
        ">- plot Pie chart for a categorical variable (‘sex’) from data frame"
      ],
      "metadata": {
        "id": "7f8w4ei1JoTi"
      }
    },
    {
      "cell_type": "code",
      "source": [
        "dataset_frame.groupby('sex').size().plot(kind='pie',ylabel='sex',\n",
        "autopct='%.2f%%')"
      ],
      "metadata": {
        "colab": {
          "base_uri": "https://localhost:8080/",
          "height": 424
        },
        "id": "9kZBb5ZlJqye",
        "outputId": "d7570088-74b0-45a8-8866-ff396b2f93f5"
      },
      "execution_count": 11,
      "outputs": [
        {
          "output_type": "execute_result",
          "data": {
            "text/plain": [
              "<Axes: ylabel='sex'>"
            ]
          },
          "metadata": {},
          "execution_count": 11
        },
        {
          "output_type": "display_data",
          "data": {
            "text/plain": [
              "<Figure size 640x480 with 1 Axes>"
            ],
            "image/png": "[encoded data removed]"
          },
          "metadata": {}
        }
      ]
    },
    {
      "cell_type": "markdown",
      "source": [
        "The code is grouping the data by the \"sex\" column and then using the \"size\" method to count the number of occurrences of each value (male and female). It then plots the results as a pie chart using the \"plot\" method, with the \"autopct\" parameter formatting the percentages to two decimal places. The resulting pie chart shows that 49.48% of the data is female and 50.52% is male."
      ],
      "metadata": {
        "id": "8fvNCLqlfV86"
      }
    },
    {
      "cell_type": "markdown",
      "source": [
        ">- plot Bar chart for a categorical variable (‘sex’) from data frame"
      ],
      "metadata": {
        "id": "TIATUnorKGlQ"
      }
    },
    {
      "cell_type": "code",
      "source": [
        "dataset_frame.groupby('sex').size().plot(kind='bar', rot=0,\n",
        "colormap='Paired')"
      ],
      "metadata": {
        "colab": {
          "base_uri": "https://localhost:8080/",
          "height": 468
        },
        "id": "8stz2EkoKLAB",
        "outputId": "bdbd8f81-a112-48e8-f122-96047e19ef0c"
      },
      "execution_count": 12,
      "outputs": [
        {
          "output_type": "execute_result",
          "data": {
            "text/plain": [
              "<Axes: xlabel='sex'>"
            ]
          },
          "metadata": {},
          "execution_count": 12
        },
        {
          "output_type": "display_data",
          "data": {
            "text/plain": [
              "<Figure size 640x480 with 1 Axes>"
            ],
            "image/png": "[encoded data removed]"
          },
          "metadata": {}
        }
      ]
    },
    {
      "cell_type": "markdown",
      "source": [
        "The code creates a bar plot where the x-axis represents the sex column with two categories, female and male, and the y-axis represents the count of each category. The rot=0 argument specifies that the x-axis labels should be horizontal, and the colormap='Paired' argument sets the color scheme for the bars."
      ],
      "metadata": {
        "id": "pEpVu3szgWn7"
      }
    },
    {
      "cell_type": "markdown",
      "source": [
        "# 3) For quantitative variables"
      ],
      "metadata": {
        "id": "42wtkS7yKcxv"
      }
    },
    {
      "cell_type": "markdown",
      "source": [
        ">- describe one quantitative variable (‘age’) from data frame"
      ],
      "metadata": {
        "id": "CTSsPTTUKkhb"
      }
    },
    {
      "cell_type": "code",
      "source": [
        "dataset_frame['age'].describe()"
      ],
      "metadata": {
        "colab": {
          "base_uri": "https://localhost:8080/"
        },
        "id": "muWZ0_JBKpKq",
        "outputId": "07b17da8-e0e7-4296-8216-f274c377c090"
      },
      "execution_count": 13,
      "outputs": [
        {
          "output_type": "execute_result",
          "data": {
            "text/plain": [
              "count    1338.000000\n",
              "mean       39.207025\n",
              "std        14.049960\n",
              "min        18.000000\n",
              "25%        27.000000\n",
              "50%        39.000000\n",
              "75%        51.000000\n",
              "max        64.000000\n",
              "Name: age, dtype: float64"
            ]
          },
          "metadata": {},
          "execution_count": 13
        }
      ]
    },
    {
      "cell_type": "markdown",
      "source": [
        "The dataset_frame['age'].describe() function call output provides descriptive statistics of the age column in the dataset_frame dataframe. The output shows the count, mean, standard deviation, minimum, maximum, and the first, second (median), and third quartiles of the data. Here's what each of these statistics means:\n",
        "\n",
        "count: The number of non-missing values in the column.\n",
        "mean: The arithmetic mean (average) of the values in the column.\n",
        "std: The standard deviation of the values in the column, which measures the spread of the data around the mean.\n",
        "min: The smallest value in the column.\n",
        "25%: The first quartile, which is the value below which 25% of the data falls.\n",
        "50%: The second quartile, which is the median of the data (the value that splits the data into two equal halves).\n",
        "75%: The third quartile, which is the value below which 75% of the data falls.\n",
        "max: The largest value in the column."
      ],
      "metadata": {
        "id": "NndROu1dgwkg"
      }
    },
    {
      "cell_type": "markdown",
      "source": [
        ">- example plot a histogram from an data array with input bins from the lecture"
      ],
      "metadata": {
        "id": "hkJp8zVdK1UR"
      }
    },
    {
      "cell_type": "code",
      "source": [
        "ages = [81, 48, 60, 51, 57, 85, 69, 75, 90, 72, 71, 79, 65, 63,\n",
        "74]\n",
        "bins = [40, 50, 60, 70, 80, 90, 100]\n",
        "plt.hist(x=ages, bins=bins, histtype='bar')\n",
        "plt.xlabel('Age')\n",
        "plt.ylabel('Count')\n",
        "plt.title('Histogram of Ages')"
      ],
      "metadata": {
        "colab": {
          "base_uri": "https://localhost:8080/",
          "height": 490
        },
        "id": "Du2iEaVbK4EX",
        "outputId": "1e4291cb-33ba-419e-f92e-0d91c417152d"
      },
      "execution_count": 14,
      "outputs": [
        {
          "output_type": "execute_result",
          "data": {
            "text/plain": [
              "Text(0.5, 1.0, 'Histogram of Ages')"
            ]
          },
          "metadata": {},
          "execution_count": 14
        },
        {
          "output_type": "display_data",
          "data": {
            "text/plain": [
              "<Figure size 640x480 with 1 Axes>"
            ],
            "image/png": "[encoded data removed]"
          },
          "metadata": {}
        }
      ]
    },
    {
      "cell_type": "markdown",
      "source": [
        "The histogram shows the distribution of ages in the given data set. The x-axis represents the age range, which is divided into six bins of width 10, and the y-axis represents the frequency or count of ages falling within each bin. The histogram is skewed to the right, with most of the ages falling between 60 and 80. The highest frequency or count is in the bin of ages 70-80. The histogram gives a visual representation of the data distribution and can be used to identify any outliers or unusual patterns in the data"
      ],
      "metadata": {
        "id": "x9Pj1wA1hY2p"
      }
    },
    {
      "cell_type": "markdown",
      "source": [
        ">- plot a histogram for a quantitative variable (‘age’) from data frame with 20 equal\n",
        "bins"
      ],
      "metadata": {
        "id": "4XfmOQKJLmzM"
      }
    },
    {
      "cell_type": "code",
      "source": [
        "dataset_frame['age'].hist(bins=20)"
      ],
      "metadata": {
        "colab": {
          "base_uri": "https://localhost:8080/",
          "height": 448
        },
        "id": "ck11PQbvLsqO",
        "outputId": "6ed72c84-41af-47fa-85d2-d21d4adc81ff"
      },
      "execution_count": 15,
      "outputs": [
        {
          "output_type": "execute_result",
          "data": {
            "text/plain": [
              "<Axes: >"
            ]
          },
          "metadata": {},
          "execution_count": 15
        },
        {
          "output_type": "display_data",
          "data": {
            "text/plain": [
              "<Figure size 640x480 with 1 Axes>"
            ],
            "image/png": "[encoded data removed]"
          },
          "metadata": {}
        }
      ]
    },
    {
      "cell_type": "markdown",
      "source": [
        "This histogram shows the distribution of ages in the dataset. The x-axis shows the age ranges, and the y-axis shows the frequency of each age range. The histogram is divided into 20 bins, which represent the age ranges.\n",
        "\n",
        "From the histogram, we can see that the most common age range is between 18 and 22 years old, and the distribution is skewed to the right, indicating that there are more people in the dataset that are younger than the average age. The histogram also shows a smaller peak around the age range of 45 to 50, indicating that there is a relatively high number of people in the dataset in that age range as well. Overall, the histogram provides a good visual representation of the distribution of ages in the dataset."
      ],
      "metadata": {
        "id": "hTCSdCE4h_wC"
      }
    },
    {
      "cell_type": "markdown",
      "source": [
        ">- calculate mode, mean, median for a quantitative variable (‘age’) from data frame"
      ],
      "metadata": {
        "id": "HO58ALmoL3sm"
      }
    },
    {
      "cell_type": "code",
      "source": [
        "dataset_frame['age'].mode()\n",
        "dataset_frame['age'].mean()\n",
        "dataset_frame['age'].median()"
      ],
      "metadata": {
        "colab": {
          "base_uri": "https://localhost:8080/"
        },
        "id": "PmE6z66ML9lr",
        "outputId": "c2eea5de-616c-4674-97d4-26e25b15d1f2"
      },
      "execution_count": 17,
      "outputs": [
        {
          "output_type": "execute_result",
          "data": {
            "text/plain": [
              "39.0"
            ]
          },
          "metadata": {},
          "execution_count": 17
        }
      ]
    },
    {
      "cell_type": "markdown",
      "source": [
        "The code dataset_frame['age'].mode() returns the mode (most frequent value) of the 'age' column in the dataset.\n",
        "The code dataset_frame['age'].mean() returns the mean (average) value of the 'age' column in the dataset.\n",
        "The code dataset_frame['age'].median() returns the median (middle) value of the 'age' column in the dataset.\n",
        "Therefore, the output 39.0 is the median age in the dataset.\n",
        "As the mode, mean, and median of a dataset are the same value, it indicates that the data is symmetrically distributed. In this case, the ages in the dataset are distributed approximately symmetrically, with a peak around 39 years old, so the mode, mean, and median are all approximately 39."
      ],
      "metadata": {
        "id": "vFBqJa9NjCJF"
      }
    },
    {
      "cell_type": "markdown",
      "source": [
        ">- calculate min, max, range for a quantitative variable (‘age’) from data frame\n",
        "range"
      ],
      "metadata": {
        "id": "1DeUlw43MLMT"
      }
    },
    {
      "cell_type": "code",
      "source": [
        "min_ = dataset_frame['age'].min()\n",
        "max_ = dataset_frame['age'].max()\n",
        "range_ = max_ - min_"
      ],
      "metadata": {
        "id": "q9sSRHy2MQmq"
      },
      "execution_count": 18,
      "outputs": []
    },
    {
      "cell_type": "markdown",
      "source": [
        ">- Calculate quantiles, IQR, outliers for a quantitative variable (‘age’) from data frame"
      ],
      "metadata": {
        "id": "Ki7qhqgMMcHZ"
      }
    },
    {
      "cell_type": "code",
      "source": [
        "Q25 = dataset_frame['age'].quantile(0.25)\n",
        "Q75 = dataset_frame['age'].quantile(0.75)\n",
        "IQR = Q75 - Q25\n",
        "\n",
        "age_outliers = dataset_frame[(dataset_frame.age < Q25 - 1.5*IQR) |\n",
        "(dataset_frame.age > Q75 + 1.5*IQR)]['age']"
      ],
      "metadata": {
        "id": "6J2s3L72Mh1Q"
      },
      "execution_count": 20,
      "outputs": []
    },
    {
      "cell_type": "markdown",
      "source": [
        ">- calculate standard deviation of a quantitative variable (‘age’) from data frame"
      ],
      "metadata": {
        "id": "MWfp7dEgM2fD"
      }
    },
    {
      "cell_type": "code",
      "source": [
        "age_std = dataset_frame['age'].std()"
      ],
      "metadata": {
        "id": "ry1VLYqzM8kY"
      },
      "execution_count": 21,
      "outputs": []
    },
    {
      "cell_type": "markdown",
      "source": [
        ">- box plot for a quantitative variable (‘age’) from data frame"
      ],
      "metadata": {
        "id": "o0EowVrXNF4Q"
      }
    },
    {
      "cell_type": "code",
      "source": [
        "plt.boxplot(x=dataset_frame['age'], labels=['age'])\n",
        "plt.ylabel('Age')"
      ],
      "metadata": {
        "colab": {
          "base_uri": "https://localhost:8080/",
          "height": 448
        },
        "id": "YRuEVdqANMJC",
        "outputId": "159c262f-edbf-4d2d-a6b9-5827c6198fda"
      },
      "execution_count": 22,
      "outputs": [
        {
          "output_type": "execute_result",
          "data": {
            "text/plain": [
              "Text(0, 0.5, 'Age')"
            ]
          },
          "metadata": {},
          "execution_count": 22
        },
        {
          "output_type": "display_data",
          "data": {
            "text/plain": [
              "<Figure size 640x480 with 1 Axes>"
            ],
            "image/png": "[encoded data removed]"
          },
          "metadata": {}
        }
      ]
    },
    {
      "cell_type": "markdown",
      "source": [
        "The box plot shows the distribution of the age variable in the dataset. The box represents the interquartile range (IQR) which contains 50% of the data, with the median represented by the line inside the box. The whiskers extend from the box to the minimum and maximum values within 1.5 times the IQR. Any points outside of this range are considered outliers and are represented as individual points.\n",
        "\n",
        "In this specific case, the box plot shows that the majority of the ages are between approximately 27 and 51, with no outliers on the upper end of the distribution."
      ],
      "metadata": {
        "id": "5Nx2hJ6xkg0A"
      }
    }
  ]
}