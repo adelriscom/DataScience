{
  "nbformat": 4,
  "nbformat_minor": 0,
  "metadata": {
    "colab": {
      "provenance": [],
      "mount_file_id": "1GvoOqoKGp96763CrXI0FL8u_Z2Vh2keQ",
      "authorship_tag": "ABX9TyNh3KP8CattVRokTxqYhnBd",
      "include_colab_link": true
    },
    "kernelspec": {
      "name": "python3",
      "display_name": "Python 3"
    },
    "language_info": {
      "name": "python"
    }
  },
  "cells": [
    {
      "cell_type": "markdown",
      "metadata": {
        "id": "view-in-github",
        "colab_type": "text"
      },
      "source": [
        "<a href=\"https://colab.research.google.com/github/adelriscom/DataScience/blob/main/Lab4_Alexander_Del_Risco.ipynb\" target=\"_parent\"><img src=\"https://colab.research.google.com/assets/colab-badge.svg\" alt=\"Open In Colab\"/></a>"
      ]
    },
    {
      "cell_type": "markdown",
      "source": [
        "# First, we import packages used in this lab"
      ],
      "metadata": {
        "id": "T1bASaQzVoA1"
      }
    },
    {
      "cell_type": "code",
      "execution_count": 1,
      "metadata": {
        "id": "Q4OY3ymaVYwo"
      },
      "outputs": [],
      "source": [
        "import numpy as np\n",
        "import matplotlib.pyplot as plt\n",
        "import pandas as pd\n",
        "from scipy import stats\n",
        "from IPython.display import display"
      ]
    },
    {
      "cell_type": "code",
      "source": [
        "df_insurance = pd.read_csv('/content/drive/MyDrive/DataScience_UWinnipeg/insurance.csv')\n",
        "display(df_insurance.head(10))"
      ],
      "metadata": {
        "colab": {
          "base_uri": "https://localhost:8080/",
          "height": 363
        },
        "id": "3g4eXK3oV-qS",
        "outputId": "bfc8a73f-5c65-427f-85e7-9e348f0bec69"
      },
      "execution_count": 12,
      "outputs": [
        {
          "output_type": "display_data",
          "data": {
            "text/plain": [
              "   age     sex     bmi  children smoker     region      charges\n",
              "0   19  female  27.900         0    yes  southwest  16884.92400\n",
              "1   18    male  33.770         1     no  southeast   1725.55230\n",
              "2   28    male  33.000         3     no  southeast   4449.46200\n",
              "3   33    male  22.705         0     no  northwest  21984.47061\n",
              "4   32    male  28.880         0     no  northwest   3866.85520\n",
              "5   31  female  25.740         0     no  southeast   3756.62160\n",
              "6   46  female  33.440         1     no  southeast   8240.58960\n",
              "7   37  female  27.740         3     no  northwest   7281.50560\n",
              "8   37    male  29.830         2     no  northeast   6406.41070\n",
              "9   60  female  25.840         0     no  northwest  28923.13692"
            ],
            "text/html": [
              "\n",
              "  <div id=\"df-dd319475-9bb1-4071-b789-1f2a0cfcdff2\">\n",
              "    <div class=\"colab-df-container\">\n",
              "      <div>\n",
              "<style scoped>\n",
              "    .dataframe tbody tr th:only-of-type {\n",
              "        vertical-align: middle;\n",
              "    }\n",
              "\n",
              "    .dataframe tbody tr th {\n",
              "        vertical-align: top;\n",
              "    }\n",
              "\n",
              "    .dataframe thead th {\n",
              "        text-align: right;\n",
              "    }\n",
              "</style>\n",
              "<table border=\"1\" class=\"dataframe\">\n",
              "  <thead>\n",
              "    <tr style=\"text-align: right;\">\n",
              "      <th></th>\n",
              "      <th>age</th>\n",
              "      <th>sex</th>\n",
              "      <th>bmi</th>\n",
              "      <th>children</th>\n",
              "      <th>smoker</th>\n",
              "      <th>region</th>\n",
              "      <th>charges</th>\n",
              "    </tr>\n",
              "  </thead>\n",
              "  <tbody>\n",
              "    <tr>\n",
              "      <th>0</th>\n",
              "      <td>19</td>\n",
              "      <td>female</td>\n",
              "      <td>27.900</td>\n",
              "      <td>0</td>\n",
              "      <td>yes</td>\n",
              "      <td>southwest</td>\n",
              "      <td>16884.92400</td>\n",
              "    </tr>\n",
              "    <tr>\n",
              "      <th>1</th>\n",
              "      <td>18</td>\n",
              "      <td>male</td>\n",
              "      <td>33.770</td>\n",
              "      <td>1</td>\n",
              "      <td>no</td>\n",
              "      <td>southeast</td>\n",
              "      <td>1725.55230</td>\n",
              "    </tr>\n",
              "    <tr>\n",
              "      <th>2</th>\n",
              "      <td>28</td>\n",
              "      <td>male</td>\n",
              "      <td>33.000</td>\n",
              "      <td>3</td>\n",
              "      <td>no</td>\n",
              "      <td>southeast</td>\n",
              "      <td>4449.46200</td>\n",
              "    </tr>\n",
              "    <tr>\n",
              "      <th>3</th>\n",
              "      <td>33</td>\n",
              "      <td>male</td>\n",
              "      <td>22.705</td>\n",
              "      <td>0</td>\n",
              "      <td>no</td>\n",
              "      <td>northwest</td>\n",
              "      <td>21984.47061</td>\n",
              "    </tr>\n",
              "    <tr>\n",
              "      <th>4</th>\n",
              "      <td>32</td>\n",
              "      <td>male</td>\n",
              "      <td>28.880</td>\n",
              "      <td>0</td>\n",
              "      <td>no</td>\n",
              "      <td>northwest</td>\n",
              "      <td>3866.85520</td>\n",
              "    </tr>\n",
              "    <tr>\n",
              "      <th>5</th>\n",
              "      <td>31</td>\n",
              "      <td>female</td>\n",
              "      <td>25.740</td>\n",
              "      <td>0</td>\n",
              "      <td>no</td>\n",
              "      <td>southeast</td>\n",
              "      <td>3756.62160</td>\n",
              "    </tr>\n",
              "    <tr>\n",
              "      <th>6</th>\n",
              "      <td>46</td>\n",
              "      <td>female</td>\n",
              "      <td>33.440</td>\n",
              "      <td>1</td>\n",
              "      <td>no</td>\n",
              "      <td>southeast</td>\n",
              "      <td>8240.58960</td>\n",
              "    </tr>\n",
              "    <tr>\n",
              "      <th>7</th>\n",
              "      <td>37</td>\n",
              "      <td>female</td>\n",
              "      <td>27.740</td>\n",
              "      <td>3</td>\n",
              "      <td>no</td>\n",
              "      <td>northwest</td>\n",
              "      <td>7281.50560</td>\n",
              "    </tr>\n",
              "    <tr>\n",
              "      <th>8</th>\n",
              "      <td>37</td>\n",
              "      <td>male</td>\n",
              "      <td>29.830</td>\n",
              "      <td>2</td>\n",
              "      <td>no</td>\n",
              "      <td>northeast</td>\n",
              "      <td>6406.41070</td>\n",
              "    </tr>\n",
              "    <tr>\n",
              "      <th>9</th>\n",
              "      <td>60</td>\n",
              "      <td>female</td>\n",
              "      <td>25.840</td>\n",
              "      <td>0</td>\n",
              "      <td>no</td>\n",
              "      <td>northwest</td>\n",
              "      <td>28923.13692</td>\n",
              "    </tr>\n",
              "  </tbody>\n",
              "</table>\n",
              "</div>\n",
              "      <button class=\"colab-df-convert\" onclick=\"convertToInteractive('df-dd319475-9bb1-4071-b789-1f2a0cfcdff2')\"\n",
              "              title=\"Convert this dataframe to an interactive table.\"\n",
              "              style=\"display:none;\">\n",
              "        \n",
              "  <svg xmlns=\"http://www.w3.org/2000/svg\" height=\"24px\"viewBox=\"0 0 24 24\"\n",
              "       width=\"24px\">\n",
              "    <path d=\"M0 0h24v24H0V0z\" fill=\"none\"/>\n",
              "    <path d=\"M18.56 5.44l.94 2.06.94-2.06 2.06-.94-2.06-.94-.94-2.06-.94 2.06-2.06.94zm-11 1L8.5 8.5l.94-2.06 2.06-.94-2.06-.94L8.5 2.5l-.94 2.06-2.06.94zm10 10l.94 2.06.94-2.06 2.06-.94-2.06-.94-.94-2.06-.94 2.06-2.06.94z\"/><path d=\"M17.41 7.96l-1.37-1.37c-.4-.4-.92-.59-1.43-.59-.52 0-1.04.2-1.43.59L10.3 9.45l-7.72 7.72c-.78.78-.78 2.05 0 2.83L4 21.41c.39.39.9.59 1.41.59.51 0 1.02-.2 1.41-.59l7.78-7.78 2.81-2.81c.8-.78.8-2.07 0-2.86zM5.41 20L4 18.59l7.72-7.72 1.47 1.35L5.41 20z\"/>\n",
              "  </svg>\n",
              "      </button>\n",
              "      \n",
              "  <style>\n",
              "    .colab-df-container {\n",
              "      display:flex;\n",
              "      flex-wrap:wrap;\n",
              "      gap: 12px;\n",
              "    }\n",
              "\n",
              "    .colab-df-convert {\n",
              "      background-color: #E8F0FE;\n",
              "      border: none;\n",
              "      border-radius: 50%;\n",
              "      cursor: pointer;\n",
              "      display: none;\n",
              "      fill: #1967D2;\n",
              "      height: 32px;\n",
              "      padding: 0 0 0 0;\n",
              "      width: 32px;\n",
              "    }\n",
              "\n",
              "    .colab-df-convert:hover {\n",
              "      background-color: #E2EBFA;\n",
              "      box-shadow: 0px 1px 2px rgba(60, 64, 67, 0.3), 0px 1px 3px 1px rgba(60, 64, 67, 0.15);\n",
              "      fill: #174EA6;\n",
              "    }\n",
              "\n",
              "    [theme=dark] .colab-df-convert {\n",
              "      background-color: #3B4455;\n",
              "      fill: #D2E3FC;\n",
              "    }\n",
              "\n",
              "    [theme=dark] .colab-df-convert:hover {\n",
              "      background-color: #434B5C;\n",
              "      box-shadow: 0px 1px 3px 1px rgba(0, 0, 0, 0.15);\n",
              "      filter: drop-shadow(0px 1px 2px rgba(0, 0, 0, 0.3));\n",
              "      fill: #FFFFFF;\n",
              "    }\n",
              "  </style>\n",
              "\n",
              "      <script>\n",
              "        const buttonEl =\n",
              "          document.querySelector('#df-dd319475-9bb1-4071-b789-1f2a0cfcdff2 button.colab-df-convert');\n",
              "        buttonEl.style.display =\n",
              "          google.colab.kernel.accessAllowed ? 'block' : 'none';\n",
              "\n",
              "        async function convertToInteractive(key) {\n",
              "          const element = document.querySelector('#df-dd319475-9bb1-4071-b789-1f2a0cfcdff2');\n",
              "          const dataTable =\n",
              "            await google.colab.kernel.invokeFunction('convertToInteractive',\n",
              "                                                     [key], {});\n",
              "          if (!dataTable) return;\n",
              "\n",
              "          const docLinkHtml = 'Like what you see? Visit the ' +\n",
              "            '<a target=\"_blank\" href=https://colab.research.google.com/notebooks/data_table.ipynb>data table notebook</a>'\n",
              "            + ' to learn more about interactive tables.';\n",
              "          element.innerHTML = '';\n",
              "          dataTable['output_type'] = 'display_data';\n",
              "          await google.colab.output.renderOutput(dataTable, element);\n",
              "          const docLink = document.createElement('div');\n",
              "          docLink.innerHTML = docLinkHtml;\n",
              "          element.appendChild(docLink);\n",
              "        }\n",
              "      </script>\n",
              "    </div>\n",
              "  </div>\n",
              "  "
            ]
          },
          "metadata": {}
        }
      ]
    },
    {
      "cell_type": "code",
      "source": [
        "print(df_insurance.shape)"
      ],
      "metadata": {
        "colab": {
          "base_uri": "https://localhost:8080/"
        },
        "id": "sVIMCiuBX9v5",
        "outputId": "9cae4db2-c16a-4b52-8ac2-4685f82ec3cf"
      },
      "execution_count": 10,
      "outputs": [
        {
          "output_type": "stream",
          "name": "stdout",
          "text": [
            "(1338, 7)\n"
          ]
        }
      ]
    },
    {
      "cell_type": "code",
      "source": [
        "def check_variables(df: pd.DataFrame):\n",
        "  cols = df.columns\n",
        "  quantitative_cols = df._get_numeric_data().columns\n",
        "  categorical_cols = list(set(cols) - set(quantitative_cols))\n",
        "  return categorical_cols, list(set(quantitative_cols))\n",
        "\n",
        "cat_cols, quan_cols = check_variables(df_insurance)\n",
        "print(f'categorical columns: {cat_cols}')\n",
        "print(f'quantitative columns: {quan_cols}')"
      ],
      "metadata": {
        "colab": {
          "base_uri": "https://localhost:8080/"
        },
        "id": "uAZtfcaRpJyA",
        "outputId": "b823dbe9-4772-4e7f-988d-ce1c795c141c"
      },
      "execution_count": 11,
      "outputs": [
        {
          "output_type": "stream",
          "name": "stdout",
          "text": [
            "categorical columns: ['region', 'sex', 'smoker']\n",
            "quantitative columns: ['bmi', 'children', 'charges', 'age']\n"
          ]
        }
      ]
    },
    {
      "cell_type": "markdown",
      "source": [
        "# Follow the lab introduction, investigate the following statement based on probability."
      ],
      "metadata": {
        "id": "yRkZJs613DGn"
      }
    },
    {
      "cell_type": "markdown",
      "source": [
        "># Calculate the average insurance charges for male and female"
      ],
      "metadata": {
        "id": "_6dB_BRuqdMi"
      }
    },
    {
      "cell_type": "markdown",
      "source": [
        ">H(0): The mean insurance charges for men and women are equal.\n",
        "\n",
        ">H(1): The mean insurance charges for men are higher than the mean insurance charges for women."
      ],
      "metadata": {
        "id": "LWF0sED627O7"
      }
    },
    {
      "cell_type": "code",
      "source": [
        "male_charge_avg = df_insurance[df_insurance.sex=='male']['charges'].mean()\n",
        "female_charge_avg = df_insurance[df_insurance.sex=='female']['charges'].mean()\n",
        "female_charge_std = df_insurance[df_insurance.sex=='female']['charges'].std()\n",
        "z_score = (male_charge_avg - female_charge_avg)/female_charge_std\n",
        "\n",
        "p_value = 1 - stats.norm.cdf(z_score)\n",
        "\n",
        "print(\"Z-score:\", z_score)\n",
        "print(\"p-value:\", p_value)"
      ],
      "metadata": {
        "colab": {
          "base_uri": "https://localhost:8080/"
        },
        "id": "Ly6T4NXT73Pt",
        "outputId": "13c30468-dddd-4f01-d59b-7f26e7b4e18b"
      },
      "execution_count": 29,
      "outputs": [
        {
          "output_type": "stream",
          "name": "stdout",
          "text": [
            "Z-score: 0.12464814938936905\n",
            "p-value: 0.45040105396168617\n"
          ]
        }
      ]
    },
    {
      "cell_type": "markdown",
      "source": [
        ">>The calculated z-score for the hypothesis that overall, insurance charges for men are higher than insurance charges for women is 0.1246, which indicates that the difference in means between the two groups is less than one-tenth of a standard deviation. The p-value of 0.4504 suggests that this difference is not statistically significant at a significance level of 0.05, meaning that we cannot reject the null hypothesis that there is no significant difference in insurance charges between men and women."
      ],
      "metadata": {
        "id": "ywbA8GFxyaTq"
      }
    },
    {
      "cell_type": "markdown",
      "source": [
        "# An insurance expert said that overall, the insurance charges for people in ‘southwest’ region is higher than the insurance charges for people in the ‘northwest’ region\n"
      ],
      "metadata": {
        "id": "XzZ14vs4Amqu"
      }
    },
    {
      "cell_type": "markdown",
      "source": [
        ">> Null hypothesis (H0): The insurance charges for people in the ‘southwest’ region are the same or lower than the insurance charges for people in the ‘northwest’ region.\n",
        "\n",
        ">>Alternative hypothesis (H1): The insurance charges for people in the ‘southwest’ region are higher than the insurance charges for people in the ‘northwest’ region."
      ],
      "metadata": {
        "id": "UAljXp-0A_mm"
      }
    },
    {
      "cell_type": "code",
      "source": [
        "sw_charges_avg = df_insurance[df_insurance.region == 'southwest']['charges'].mean()\n",
        "nw_charges_avg = df_insurance[df_insurance.region == 'northwest']['charges'].mean()\n",
        "nw_charge_std = df_insurance[df_insurance.region=='northwest']['charges'].std()\n",
        "z_score = (sw_charges_avg - nw_charges_avg)/nw_charge_std\n",
        "\n",
        "p_value = 1 - stats.norm.cdf(z_score)\n",
        "\n",
        "print(\"Z-score:\", z_score)\n",
        "print(\"p-value:\", p_value)"
      ],
      "metadata": {
        "colab": {
          "base_uri": "https://localhost:8080/"
        },
        "id": "xNGew3Xi9RDl",
        "outputId": "ec14b348-6092-427b-d659-3275b0e15687"
      },
      "execution_count": 31,
      "outputs": [
        {
          "output_type": "stream",
          "name": "stdout",
          "text": [
            "Z-score: -0.006379717301052088\n",
            "p-value: 0.5025451217036413\n"
          ]
        }
      ]
    },
    {
      "cell_type": "markdown",
      "source": [
        ">>The Z-score for the hypothesis \"the insurance charges for people in 'southwest' region is higher than the insurance charges for people in the 'northwest' region\" is -0.0064, and the p-value is 0.5025. Since the p-value is greater than 0.05, we do not have enough evidence to reject the null hypothesis that there is no significant difference in insurance charges between the two regions. Therefore, we cannot conclude that the insurance charges for people in the 'southwest' region are higher than the insurance charges for people in the 'northwest' region."
      ],
      "metadata": {
        "id": "T9aTlKDEy_fO"
      }
    },
    {
      "cell_type": "markdown",
      "source": [
        "# An insurance expert said that overall, the insurance charges for people having 0 children is higher than the insurance charges for people having children."
      ],
      "metadata": {
        "id": "idEuFRRAAt6N"
      }
    },
    {
      "cell_type": "markdown",
      "source": [
        ">>Null hypothesis \n",
        "H0: The mean insurance charges for people with no children is equal to or lower than the mean insurance charges for people with one or more children.\n",
        "Alternative hypothesis \n",
        "\n",
        ">>H1: The mean insurance charges for people with no children is higher than the mean insurance charges for people with one or more children."
      ],
      "metadata": {
        "id": "zjZs3wkUBIFx"
      }
    },
    {
      "cell_type": "code",
      "source": [
        "no_children_charges_avg = df_insurance[df_insurance.children == 0]['charges'].mean()\n",
        "children_charges_avg = df_insurance[df_insurance.children > 0]['charges'].mean()\n",
        "children_charge_std = df_insurance[df_insurance.children > 0]['charges'].std()\n",
        "z_score = (no_children_charges_avg - children_charges_avg) / children_charge_std\n",
        "\n",
        "p_value = 1 - stats.norm.cdf(z_score)\n",
        "\n",
        "print(\"Z-score:\", z_score)\n",
        "print(\"p-value:\", p_value)"
      ],
      "metadata": {
        "colab": {
          "base_uri": "https://localhost:8080/"
        },
        "id": "sNuiZFxs-2cm",
        "outputId": "8eb6f600-d350-4fa6-a39a-29356361d1d7"
      },
      "execution_count": 36,
      "outputs": [
        {
          "output_type": "stream",
          "name": "stdout",
          "text": [
            "Z-score: -0.13049312676053818\n",
            "p-value: 0.551911854151137\n"
          ]
        }
      ]
    },
    {
      "cell_type": "markdown",
      "source": [
        ">>Based on the results of the hypothesis test, we cannot reject the null hypothesis at a significance level of 0.05. Therefore, we cannot conclude that the insurance charges for people having 0 children is higher than the insurance charges for people having children. The p-value of 0.5519 is greater than the significance level of 0.05, indicating that the difference between the two groups may have occurred by chance."
      ],
      "metadata": {
        "id": "2wO-YmJYzXvJ"
      }
    }
  ]
}