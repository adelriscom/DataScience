{
  "cells": [
    {
      "cell_type": "markdown",
      "metadata": {
        "id": "view-in-github",
        "colab_type": "text"
      },
      "source": [
        "<a href=\"https://colab.research.google.com/github/adelriscom/DataScience/blob/main/Web_scrapping_Demo.ipynb\" target=\"_parent\"><img src=\"https://colab.research.google.com/assets/colab-badge.svg\" alt=\"Open In Colab\"/></a>"
      ]
    },
    {
      "cell_type": "code",
      "execution_count": null,
      "metadata": {
        "id": "e4aTFiaSHeQj"
      },
      "outputs": [],
      "source": [
        "# Understanding tags in html: https://web.stanford.edu/group/csp/cs21/htmlcheatsheet.pdf"
      ]
    },
    {
      "cell_type": "code",
      "execution_count": 2,
      "metadata": {
        "id": "OAACPNqJHeQr"
      },
      "outputs": [],
      "source": [
        "from bs4 import BeautifulSoup # Good for webscrapping for pulling HTML and XML files\n",
        "import requests # to download webpage"
      ]
    },
    {
      "cell_type": "code",
      "execution_count": 12,
      "metadata": {
        "id": "cufVGdxsHeQt"
      },
      "outputs": [],
      "source": [
        "\n",
        "url = 'https://go.drugbank.com/'"
      ]
    },
    {
      "cell_type": "code",
      "execution_count": 17,
      "metadata": {
        "id": "gIy7VK0rHeQu",
        "colab": {
          "base_uri": "https://localhost:8080/"
        },
        "outputId": "20c00f61-ffc5-4dfa-b545-e67b1c5752c6"
      },
      "outputs": [
        {
          "output_type": "stream",
          "name": "stdout",
          "text": [
            "Status code: 200\n"
          ]
        }
      ],
      "source": [
        "# We use get to download the content of the web page in txt format and store in a variable called data:\n",
        "\n",
        "#data = requests.get(url).text\n",
        "try:\n",
        "    response = requests.get(url)\n",
        "    data = response.content\n",
        "    # We create BeautifulSoup object using the BeautifulSoup Constructor\n",
        "    soup = BeautifulSoup(data, 'html5lib') # create a soup using variable data \n",
        "    # print the status code\n",
        "    print(f\"Status code: {response.status_code}\")\n",
        "except requests.exceptions.RequestException as e:\n",
        "    # Handle the exception\n",
        "    print(f\"An error occurred: {str(e)}\")"
      ]
    },
    {
      "cell_type": "code",
      "source": [
        "print(response.headers)"
      ],
      "metadata": {
        "colab": {
          "base_uri": "https://localhost:8080/"
        },
        "id": "tm1FGH7MmKia",
        "outputId": "0c7b6f81-241b-4f61-f67e-5a0d7ea67c6d"
      },
      "execution_count": 18,
      "outputs": [
        {
          "output_type": "stream",
          "name": "stdout",
          "text": [
            "{'Date': 'Tue, 09 May 2023 17:55:12 GMT', 'Content-Type': 'text/html; charset=utf-8', 'Transfer-Encoding': 'chunked', 'Connection': 'keep-alive', 'X-Frame-Options': 'SAMEORIGIN', 'X-XSS-Protection': '1; mode=block', 'X-Content-Type-Options': 'nosniff', 'X-Download-Options': 'noopen', 'X-Permitted-Cross-Domain-Policies': 'none', 'Referrer-Policy': 'strict-origin-when-cross-origin', 'Link': '</assets/public-75d433fe530a605708419fc761eb39234c80fd7a60d0619fb6172daac871f4b8.css>; rel=preload; as=style; nopush,</assets/analytics-90bbcf36223d1735254c023a66714dd9efc357ead65bf444e9b67c7c212ef555.js>; rel=preload; as=script; nopush', 'Vary': 'Accept', 'Cache-Control': 'max-age=0, private, must-revalidate', 'Set-Cookie': '_omx_drug_bank_session=Cplvs1Hpld1yz9xM0R4LUjNe2Q0%2BQwWUxbRWkiNA4RRBpuPlerGRqzCbdIhcfe8u0i5EoZnBaH%2Fu6hCoBtyn7CAgzMsd0Asj56DaoiVBhGsAK4tLGDAxTtwd96wD%2FH%2FXYaqQ3meI8DysVTxAbb9l%2BNz01dRHkiTKRibsTEicm2K%2Fxdv0NglZ0IAk0FrMZypMJYkeLzN4ZqB%2B%2FXFoQx7yR0CAtkaomsmEKIdU4BUSyibvSpEC3wN8vnt2kWjBY5u8GF3dzEnaGx8CGGOGjRZBaSnoa95ylWC9N4Pe3U8I--b9m4JSup5bSQYaKS--uP7%2BflDnfp%2Bbpbo1VrQpPQ%3D%3D; path=/; HttpOnly; SameSite=Lax', 'X-Request-Id': '6428fdc0-c46e-46fa-a243-e000b3fa67f0', 'X-Runtime': '0.063242', 'X-HACKER': 'scraping drugbank? why not download it instead, at go.drugbank.com/downloads', 'CF-Cache-Status': 'DYNAMIC', 'Server': 'cloudflare', 'CF-RAY': '7c4bcfde6f800bd5-AMS', 'Content-Encoding': 'gzip', 'alt-svc': 'h3=\":443\"; ma=86400, h3-29=\":443\"; ma=86400'}\n"
          ]
        }
      ]
    },
    {
      "cell_type": "code",
      "source": [
        "print(response.text)"
      ],
      "metadata": {
        "id": "89HXC4Cam6rL"
      },
      "execution_count": null,
      "outputs": []
    },
    {
      "cell_type": "code",
      "execution_count": 21,
      "metadata": {
        "id": "fg2Ot3dCHeQv"
      },
      "outputs": [],
      "source": [
        "# We create BeautifulSoup object using the BeautifulSoup Constructor\n",
        "\n",
        "soup = BeautifulSoup(data, 'html5lib') # create a soup using variable data"
      ]
    },
    {
      "cell_type": "code",
      "execution_count": 23,
      "metadata": {
        "id": "pOmnWgiQHeQv"
      },
      "outputs": [],
      "source": [
        "# Scrap all links\n",
        "\n",
        "for link in soup.find_all('a', href =True): # in html, anchor/link is representated by the tag <a>\n",
        "    print(link.get('href'))\n"
      ]
    },
    {
      "cell_type": "code",
      "execution_count": 24,
      "metadata": {
        "id": "RQotw5KAHeQw"
      },
      "outputs": [],
      "source": [
        "# Scrap all the images Tag\n",
        "for link in soup.find_all('img'): #in html, image is representaed by the tag <img>\n",
        "    print(link)\n",
        "    print(link.get('src'))"
      ]
    },
    {
      "cell_type": "code",
      "execution_count": 25,
      "metadata": {
        "id": "KYfGfk5QHeQx",
        "colab": {
          "base_uri": "https://localhost:8080/"
        },
        "outputId": "7c2e0ae0-b2ea-4260-a11d-bcb9efc49a9c"
      },
      "outputs": [
        {
          "output_type": "stream",
          "name": "stdout",
          "text": [
            "https://go.drugbank.com/\n",
            "\n"
          ]
        },
        {
          "output_type": "stream",
          "name": "stderr",
          "text": [
            "<ipython-input-25-9bc415ac5709>:1: MarkupResemblesLocatorWarning: The input looks more like a URL than markup. You may want to use an HTTP client like requests to get the document behind the URL, and feed that document to Beautiful Soup.\n",
            "  soup = BeautifulSoup(url, 'html.parser')\n"
          ]
        }
      ],
      "source": [
        "soup = BeautifulSoup(url, 'html.parser')\n",
        "print(soup.prettify())"
      ]
    },
    {
      "cell_type": "code",
      "execution_count": null,
      "metadata": {
        "id": "UcGhiGNfHeQx"
      },
      "outputs": [],
      "source": []
    },
    {
      "cell_type": "markdown",
      "metadata": {
        "id": "9zl85rYyHeQy"
      },
      "source": [
        "## Scrap data from a Table in HTML"
      ]
    },
    {
      "cell_type": "code",
      "execution_count": 26,
      "metadata": {
        "id": "yzwLoPpKHeQ0"
      },
      "outputs": [],
      "source": [
        "from bs4 import BeautifulSoup # Good for webscrapping for pulling HTML and XML files\n",
        "import requests # to download webpage"
      ]
    },
    {
      "cell_type": "code",
      "execution_count": 27,
      "metadata": {
        "id": "gchkgsWoHeQ2"
      },
      "outputs": [],
      "source": [
        "\n",
        "# The url below conatins an html table with data about colors and colour codes\n",
        "url = \"https://elasticbeanstalk-us-east-2-340729127361.s3.us-east-2.amazonaws.com/colour_codes.html\""
      ]
    },
    {
      "cell_type": "markdown",
      "metadata": {
        "id": "Ys4kIWSYHeQ3"
      },
      "source": [
        " Before proceeding to scrape a website, you need to first examine the content and the way it is organised on the website.  The check the link abouve on the browser"
      ]
    },
    {
      "cell_type": "code",
      "execution_count": 28,
      "metadata": {
        "id": "Ei8o0tVEHeQ3"
      },
      "outputs": [],
      "source": [
        "# get the content of the webpage in the text format in a variable called data\n",
        "data = requests.get(url).text"
      ]
    },
    {
      "cell_type": "code",
      "execution_count": 29,
      "metadata": {
        "id": "-jCQN-04HeQ4"
      },
      "outputs": [],
      "source": [
        "soup = BeautifulSoup(data, \"html5lib\")"
      ]
    },
    {
      "cell_type": "code",
      "execution_count": 30,
      "metadata": {
        "id": "EmnblVTbHeQ4"
      },
      "outputs": [],
      "source": [
        "# Find a html table in the web page\n",
        "\n",
        "table = soup.find('table') # in html table is represented by the tag <table>"
      ]
    },
    {
      "cell_type": "code",
      "execution_count": 31,
      "metadata": {
        "colab": {
          "base_uri": "https://localhost:8080/"
        },
        "id": "UgukupE0HeQ4",
        "outputId": "fc5e344c-9acd-4b5f-d4e0-c41fc6910085"
      },
      "outputs": [
        {
          "output_type": "stream",
          "name": "stdout",
          "text": [
            "colour name is Color Name   Colour code is None\n",
            "colour name is lightsalmon   Colour code is #FFA07A\n",
            "colour name is salmon   Colour code is #FA8072\n",
            "colour name is darksalmon   Colour code is #E9967A\n",
            "colour name is lightcoral   Colour code is #F08080\n",
            "colour name is coral   Colour code is #FF7F50\n",
            "colour name is tomato   Colour code is #FF6347\n",
            "colour name is orangered   Colour code is #FF4500\n",
            "colour name is gold   Colour code is #FFD700\n",
            "colour name is orange   Colour code is #FFA500\n",
            "colour name is darkorange   Colour code is #FF8C00\n",
            "colour name is lightyellow   Colour code is #FFFFE0\n",
            "colour name is lemonchiffon   Colour code is #FFFACD\n",
            "colour name is papayawhip   Colour code is #FFEFD5\n",
            "colour name is moccasin   Colour code is #FFE4B5\n",
            "colour name is peachpuff   Colour code is #FFDAB9\n",
            "colour name is palegoldenrod   Colour code is #EEE8AA\n",
            "colour name is khaki   Colour code is #F0E68C\n",
            "colour name is darkkhaki   Colour code is #BDB76B\n",
            "colour name is yellow   Colour code is #FFFF00\n",
            "colour name is lawngreen   Colour code is #7CFC00\n",
            "colour name is chartreuse   Colour code is #7FFF00\n",
            "colour name is limegreen   Colour code is #32CD32\n",
            "colour name is lime   Colour code is #00FF00\n",
            "colour name is forestgreen   Colour code is #228B22\n",
            "colour name is green   Colour code is #008000\n",
            "colour name is powderblue   Colour code is #B0E0E6\n",
            "colour name is lightblue   Colour code is #ADD8E6\n",
            "colour name is lightskyblue   Colour code is #87CEFA\n",
            "colour name is skyblue   Colour code is #87CEEB\n",
            "colour name is deepskyblue   Colour code is #00BFFF\n",
            "colour name is lightsteelblue   Colour code is #B0C4DE\n",
            "colour name is dodgerblue   Colour code is #1E90FF\n"
          ]
        }
      ],
      "source": [
        "# Get all the rows from the table\n",
        "\n",
        "for row in table.find_all('tr'): # in the html table row is represented by tag <tr>\n",
        "    #Get all columns in each row\n",
        "    cols = row.find_all('td') #in html, a column is represented by the tagg <td>\n",
        "    color_name = cols[2].string # store the value in column 3 as color_name\n",
        "    color_code = cols[3].string # store the value in column 4 as color_code\n",
        "    print(\"colour name is {}   Colour code is {}\".format(color_name, color_code))\n",
        "    "
      ]
    },
    {
      "cell_type": "code",
      "execution_count": null,
      "metadata": {
        "id": "U97NDMSEHeQ5"
      },
      "outputs": [],
      "source": []
    }
  ],
  "metadata": {
    "kernelspec": {
      "display_name": "Python 3",
      "language": "python",
      "name": "python3"
    },
    "language_info": {
      "codemirror_mode": {
        "name": "ipython",
        "version": 3
      },
      "file_extension": ".py",
      "mimetype": "text/x-python",
      "name": "python",
      "nbconvert_exporter": "python",
      "pygments_lexer": "ipython3",
      "version": "3.7.6"
    },
    "colab": {
      "provenance": [],
      "include_colab_link": true
    }
  },
  "nbformat": 4,
  "nbformat_minor": 0
}